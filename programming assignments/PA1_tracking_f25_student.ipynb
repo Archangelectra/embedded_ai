{
  "cells": [
    {
      "cell_type": "markdown",
      "metadata": {
        "nbgrader": {
          "grade": false,
          "grade_id": "cell-20a94f951bca15f1",
          "locked": true,
          "schema_version": 1,
          "solution": false
        },
        "id": "YAmIPJ9eYBhe"
      },
      "source": [
        "# PA1: Tracking with the α–β (g-h) Filter  \n",
        "\n",
        "PA1 covers intro to tracking.  \n",
        "\n",
        "The students implement an $\\alpha$-$\\beta$ tracker to maxmimize the sensor accuracy and discuss its limitations.\n"
      ]
    },
    {
      "cell_type": "markdown",
      "metadata": {
        "id": "5vu_BqG0YBhg"
      },
      "source": [
        "\n",
        "\n",
        "## Learning Goals\n",
        "By the end of this assignment, you will be able to:\n",
        "- Implement an α–β (g-h) filter from scratch.  \n",
        "- Vectorize Python code for efficiency.  \n",
        "- Evaluate filter performance using Mean Squared Error (MSE).  \n",
        "- Tune g and h parameters and explain the tradeoffs between responsiveness and noise suppression.  \n",
        "- Reflect on the strengths and limitations of the α–β filter.  "
      ]
    },
    {
      "cell_type": "code",
      "execution_count": null,
      "metadata": {
        "id": "_TddyYZvYBhg"
      },
      "outputs": [],
      "source": [
        "import numpy as np\n",
        "rng = np.random.RandomState(42)"
      ]
    },
    {
      "cell_type": "code",
      "execution_count": null,
      "metadata": {
        "id": "QTssfh6iR2gY"
      },
      "outputs": [],
      "source": [
        "from __future__ import division, print_function\n",
        "%matplotlib inline"
      ]
    },
    {
      "cell_type": "code",
      "execution_count": null,
      "metadata": {
        "colab": {
          "base_uri": "https://localhost:8080/"
        },
        "id": "Fcm23Tvebkeb",
        "outputId": "64766770-780f-44cd-cba4-ea5be46bef0a",
        "collapsed": true
      },
      "outputs": [
        {
          "output_type": "stream",
          "name": "stdout",
          "text": [
            "Cloning into 'Kalman-and-Bayesian-Filters-in-Python'...\n",
            "remote: Enumerating objects: 7036, done.\u001b[K\n",
            "remote: Counting objects: 100% (52/52), done.\u001b[K\n",
            "remote: Compressing objects: 100% (27/27), done.\u001b[K\n",
            "remote: Total 7036 (delta 35), reused 25 (delta 25), pack-reused 6984 (from 3)\u001b[K\n",
            "Receiving objects: 100% (7036/7036), 585.24 MiB | 36.28 MiB/s, done.\n",
            "Resolving deltas: 100% (3853/3853), done.\n",
            "/content/Kalman-and-Bayesian-Filters-in-Python\n",
            "Collecting filterpy (from -r requirements.txt (line 1))\n",
            "  Downloading filterpy-1.4.5.zip (177 kB)\n",
            "\u001b[2K     \u001b[90m━━━━━━━━━━━━━━━━━━━━━━━━━━━━━━━━━━━━━━━\u001b[0m \u001b[32m178.0/178.0 kB\u001b[0m \u001b[31m4.0 MB/s\u001b[0m eta \u001b[36m0:00:00\u001b[0m\n",
            "\u001b[?25h  Preparing metadata (setup.py) ... \u001b[?25l\u001b[?25hdone\n",
            "Collecting jupyter (from -r requirements.txt (line 2))\n",
            "  Downloading jupyter-1.1.1-py2.py3-none-any.whl.metadata (2.0 kB)\n",
            "Requirement already satisfied: notebook in /usr/local/lib/python3.12/dist-packages (from -r requirements.txt (line 3)) (6.5.7)\n",
            "Requirement already satisfied: sympy in /usr/local/lib/python3.12/dist-packages (from -r requirements.txt (line 4)) (1.13.3)\n",
            "Requirement already satisfied: numpy in /usr/local/lib/python3.12/dist-packages (from -r requirements.txt (line 5)) (2.0.2)\n",
            "Requirement already satisfied: scipy in /usr/local/lib/python3.12/dist-packages (from -r requirements.txt (line 6)) (1.16.1)\n",
            "Requirement already satisfied: matplotlib in /usr/local/lib/python3.12/dist-packages (from -r requirements.txt (line 7)) (3.10.0)\n",
            "Requirement already satisfied: jupyter-console in /usr/local/lib/python3.12/dist-packages (from jupyter->-r requirements.txt (line 2)) (6.6.3)\n",
            "Requirement already satisfied: nbconvert in /usr/local/lib/python3.12/dist-packages (from jupyter->-r requirements.txt (line 2)) (7.16.6)\n",
            "Requirement already satisfied: ipykernel in /usr/local/lib/python3.12/dist-packages (from jupyter->-r requirements.txt (line 2)) (6.17.1)\n",
            "Requirement already satisfied: ipywidgets in /usr/local/lib/python3.12/dist-packages (from jupyter->-r requirements.txt (line 2)) (7.7.1)\n",
            "Collecting jupyterlab (from jupyter->-r requirements.txt (line 2))\n",
            "  Downloading jupyterlab-4.4.7-py3-none-any.whl.metadata (16 kB)\n",
            "Requirement already satisfied: jinja2 in /usr/local/lib/python3.12/dist-packages (from notebook->-r requirements.txt (line 3)) (3.1.6)\n",
            "Requirement already satisfied: tornado>=6.1 in /usr/local/lib/python3.12/dist-packages (from notebook->-r requirements.txt (line 3)) (6.4.2)\n",
            "Requirement already satisfied: pyzmq>=17 in /usr/local/lib/python3.12/dist-packages (from notebook->-r requirements.txt (line 3)) (26.2.1)\n",
            "Requirement already satisfied: argon2-cffi in /usr/local/lib/python3.12/dist-packages (from notebook->-r requirements.txt (line 3)) (25.1.0)\n",
            "Requirement already satisfied: traitlets>=4.2.1 in /usr/local/lib/python3.12/dist-packages (from notebook->-r requirements.txt (line 3)) (5.7.1)\n",
            "Requirement already satisfied: jupyter-core>=4.6.1 in /usr/local/lib/python3.12/dist-packages (from notebook->-r requirements.txt (line 3)) (5.8.1)\n",
            "Requirement already satisfied: jupyter-client<8,>=5.3.4 in /usr/local/lib/python3.12/dist-packages (from notebook->-r requirements.txt (line 3)) (7.4.9)\n",
            "Requirement already satisfied: ipython-genutils in /usr/local/lib/python3.12/dist-packages (from notebook->-r requirements.txt (line 3)) (0.2.0)\n",
            "Requirement already satisfied: nbformat in /usr/local/lib/python3.12/dist-packages (from notebook->-r requirements.txt (line 3)) (5.10.4)\n",
            "Requirement already satisfied: nest-asyncio>=1.5 in /usr/local/lib/python3.12/dist-packages (from notebook->-r requirements.txt (line 3)) (1.6.0)\n",
            "Requirement already satisfied: Send2Trash>=1.8.0 in /usr/local/lib/python3.12/dist-packages (from notebook->-r requirements.txt (line 3)) (1.8.3)\n",
            "Requirement already satisfied: terminado>=0.8.3 in /usr/local/lib/python3.12/dist-packages (from notebook->-r requirements.txt (line 3)) (0.18.1)\n",
            "Requirement already satisfied: prometheus-client in /usr/local/lib/python3.12/dist-packages (from notebook->-r requirements.txt (line 3)) (0.22.1)\n",
            "Requirement already satisfied: nbclassic>=0.4.7 in /usr/local/lib/python3.12/dist-packages (from notebook->-r requirements.txt (line 3)) (1.3.2)\n",
            "Requirement already satisfied: mpmath<1.4,>=1.1.0 in /usr/local/lib/python3.12/dist-packages (from sympy->-r requirements.txt (line 4)) (1.3.0)\n",
            "Requirement already satisfied: contourpy>=1.0.1 in /usr/local/lib/python3.12/dist-packages (from matplotlib->-r requirements.txt (line 7)) (1.3.3)\n",
            "Requirement already satisfied: cycler>=0.10 in /usr/local/lib/python3.12/dist-packages (from matplotlib->-r requirements.txt (line 7)) (0.12.1)\n",
            "Requirement already satisfied: fonttools>=4.22.0 in /usr/local/lib/python3.12/dist-packages (from matplotlib->-r requirements.txt (line 7)) (4.59.2)\n",
            "Requirement already satisfied: kiwisolver>=1.3.1 in /usr/local/lib/python3.12/dist-packages (from matplotlib->-r requirements.txt (line 7)) (1.4.9)\n",
            "Requirement already satisfied: packaging>=20.0 in /usr/local/lib/python3.12/dist-packages (from matplotlib->-r requirements.txt (line 7)) (25.0)\n",
            "Requirement already satisfied: pillow>=8 in /usr/local/lib/python3.12/dist-packages (from matplotlib->-r requirements.txt (line 7)) (11.3.0)\n",
            "Requirement already satisfied: pyparsing>=2.3.1 in /usr/local/lib/python3.12/dist-packages (from matplotlib->-r requirements.txt (line 7)) (3.2.3)\n",
            "Requirement already satisfied: python-dateutil>=2.7 in /usr/local/lib/python3.12/dist-packages (from matplotlib->-r requirements.txt (line 7)) (2.9.0.post0)\n",
            "Requirement already satisfied: entrypoints in /usr/local/lib/python3.12/dist-packages (from jupyter-client<8,>=5.3.4->notebook->-r requirements.txt (line 3)) (0.4)\n",
            "Requirement already satisfied: platformdirs>=2.5 in /usr/local/lib/python3.12/dist-packages (from jupyter-core>=4.6.1->notebook->-r requirements.txt (line 3)) (4.4.0)\n",
            "Requirement already satisfied: notebook-shim>=0.2.3 in /usr/local/lib/python3.12/dist-packages (from nbclassic>=0.4.7->notebook->-r requirements.txt (line 3)) (0.2.4)\n",
            "Requirement already satisfied: beautifulsoup4 in /usr/local/lib/python3.12/dist-packages (from nbconvert->jupyter->-r requirements.txt (line 2)) (4.13.5)\n",
            "Requirement already satisfied: bleach!=5.0.0 in /usr/local/lib/python3.12/dist-packages (from bleach[css]!=5.0.0->nbconvert->jupyter->-r requirements.txt (line 2)) (6.2.0)\n",
            "Requirement already satisfied: defusedxml in /usr/local/lib/python3.12/dist-packages (from nbconvert->jupyter->-r requirements.txt (line 2)) (0.7.1)\n",
            "Requirement already satisfied: jupyterlab-pygments in /usr/local/lib/python3.12/dist-packages (from nbconvert->jupyter->-r requirements.txt (line 2)) (0.3.0)\n",
            "Requirement already satisfied: markupsafe>=2.0 in /usr/local/lib/python3.12/dist-packages (from nbconvert->jupyter->-r requirements.txt (line 2)) (3.0.2)\n",
            "Requirement already satisfied: mistune<4,>=2.0.3 in /usr/local/lib/python3.12/dist-packages (from nbconvert->jupyter->-r requirements.txt (line 2)) (3.1.4)\n",
            "Requirement already satisfied: nbclient>=0.5.0 in /usr/local/lib/python3.12/dist-packages (from nbconvert->jupyter->-r requirements.txt (line 2)) (0.10.2)\n",
            "Requirement already satisfied: pandocfilters>=1.4.1 in /usr/local/lib/python3.12/dist-packages (from nbconvert->jupyter->-r requirements.txt (line 2)) (1.5.1)\n",
            "Requirement already satisfied: pygments>=2.4.1 in /usr/local/lib/python3.12/dist-packages (from nbconvert->jupyter->-r requirements.txt (line 2)) (2.19.2)\n",
            "Requirement already satisfied: fastjsonschema>=2.15 in /usr/local/lib/python3.12/dist-packages (from nbformat->notebook->-r requirements.txt (line 3)) (2.21.2)\n",
            "Requirement already satisfied: jsonschema>=2.6 in /usr/local/lib/python3.12/dist-packages (from nbformat->notebook->-r requirements.txt (line 3)) (4.25.1)\n",
            "Requirement already satisfied: six>=1.5 in /usr/local/lib/python3.12/dist-packages (from python-dateutil>=2.7->matplotlib->-r requirements.txt (line 7)) (1.17.0)\n",
            "Requirement already satisfied: ptyprocess in /usr/local/lib/python3.12/dist-packages (from terminado>=0.8.3->notebook->-r requirements.txt (line 3)) (0.7.0)\n",
            "Requirement already satisfied: argon2-cffi-bindings in /usr/local/lib/python3.12/dist-packages (from argon2-cffi->notebook->-r requirements.txt (line 3)) (25.1.0)\n",
            "Requirement already satisfied: debugpy>=1.0 in /usr/local/lib/python3.12/dist-packages (from ipykernel->jupyter->-r requirements.txt (line 2)) (1.8.15)\n",
            "Requirement already satisfied: ipython>=7.23.1 in /usr/local/lib/python3.12/dist-packages (from ipykernel->jupyter->-r requirements.txt (line 2)) (7.34.0)\n",
            "Requirement already satisfied: matplotlib-inline>=0.1 in /usr/local/lib/python3.12/dist-packages (from ipykernel->jupyter->-r requirements.txt (line 2)) (0.1.7)\n",
            "Requirement already satisfied: psutil in /usr/local/lib/python3.12/dist-packages (from ipykernel->jupyter->-r requirements.txt (line 2)) (5.9.5)\n",
            "Requirement already satisfied: widgetsnbextension~=3.6.0 in /usr/local/lib/python3.12/dist-packages (from ipywidgets->jupyter->-r requirements.txt (line 2)) (3.6.10)\n",
            "Requirement already satisfied: jupyterlab-widgets>=1.0.0 in /usr/local/lib/python3.12/dist-packages (from ipywidgets->jupyter->-r requirements.txt (line 2)) (3.0.15)\n",
            "Requirement already satisfied: prompt-toolkit>=3.0.30 in /usr/local/lib/python3.12/dist-packages (from jupyter-console->jupyter->-r requirements.txt (line 2)) (3.0.52)\n",
            "Collecting async-lru>=1.0.0 (from jupyterlab->jupyter->-r requirements.txt (line 2))\n",
            "  Downloading async_lru-2.0.5-py3-none-any.whl.metadata (4.5 kB)\n",
            "Requirement already satisfied: httpx<1,>=0.25.0 in /usr/local/lib/python3.12/dist-packages (from jupyterlab->jupyter->-r requirements.txt (line 2)) (0.28.1)\n",
            "Collecting jupyter-lsp>=2.0.0 (from jupyterlab->jupyter->-r requirements.txt (line 2))\n",
            "  Downloading jupyter_lsp-2.3.0-py3-none-any.whl.metadata (1.8 kB)\n",
            "Requirement already satisfied: jupyter-server<3,>=2.4.0 in /usr/local/lib/python3.12/dist-packages (from jupyterlab->jupyter->-r requirements.txt (line 2)) (2.14.0)\n",
            "Collecting jupyterlab-server<3,>=2.27.1 (from jupyterlab->jupyter->-r requirements.txt (line 2))\n",
            "  Downloading jupyterlab_server-2.27.3-py3-none-any.whl.metadata (5.9 kB)\n",
            "Requirement already satisfied: setuptools>=41.1.0 in /usr/local/lib/python3.12/dist-packages (from jupyterlab->jupyter->-r requirements.txt (line 2)) (75.2.0)\n",
            "Requirement already satisfied: webencodings in /usr/local/lib/python3.12/dist-packages (from bleach!=5.0.0->bleach[css]!=5.0.0->nbconvert->jupyter->-r requirements.txt (line 2)) (0.5.1)\n",
            "Requirement already satisfied: tinycss2<1.5,>=1.1.0 in /usr/local/lib/python3.12/dist-packages (from bleach[css]!=5.0.0->nbconvert->jupyter->-r requirements.txt (line 2)) (1.4.0)\n",
            "Requirement already satisfied: anyio in /usr/local/lib/python3.12/dist-packages (from httpx<1,>=0.25.0->jupyterlab->jupyter->-r requirements.txt (line 2)) (4.10.0)\n",
            "Requirement already satisfied: certifi in /usr/local/lib/python3.12/dist-packages (from httpx<1,>=0.25.0->jupyterlab->jupyter->-r requirements.txt (line 2)) (2025.8.3)\n",
            "Requirement already satisfied: httpcore==1.* in /usr/local/lib/python3.12/dist-packages (from httpx<1,>=0.25.0->jupyterlab->jupyter->-r requirements.txt (line 2)) (1.0.9)\n",
            "Requirement already satisfied: idna in /usr/local/lib/python3.12/dist-packages (from httpx<1,>=0.25.0->jupyterlab->jupyter->-r requirements.txt (line 2)) (3.10)\n",
            "Requirement already satisfied: h11>=0.16 in /usr/local/lib/python3.12/dist-packages (from httpcore==1.*->httpx<1,>=0.25.0->jupyterlab->jupyter->-r requirements.txt (line 2)) (0.16.0)\n",
            "Collecting jedi>=0.16 (from ipython>=7.23.1->ipykernel->jupyter->-r requirements.txt (line 2))\n",
            "  Downloading jedi-0.19.2-py2.py3-none-any.whl.metadata (22 kB)\n",
            "Requirement already satisfied: decorator in /usr/local/lib/python3.12/dist-packages (from ipython>=7.23.1->ipykernel->jupyter->-r requirements.txt (line 2)) (4.4.2)\n",
            "Requirement already satisfied: pickleshare in /usr/local/lib/python3.12/dist-packages (from ipython>=7.23.1->ipykernel->jupyter->-r requirements.txt (line 2)) (0.7.5)\n",
            "Requirement already satisfied: backcall in /usr/local/lib/python3.12/dist-packages (from ipython>=7.23.1->ipykernel->jupyter->-r requirements.txt (line 2)) (0.2.0)\n",
            "Requirement already satisfied: pexpect>4.3 in /usr/local/lib/python3.12/dist-packages (from ipython>=7.23.1->ipykernel->jupyter->-r requirements.txt (line 2)) (4.9.0)\n",
            "Requirement already satisfied: attrs>=22.2.0 in /usr/local/lib/python3.12/dist-packages (from jsonschema>=2.6->nbformat->notebook->-r requirements.txt (line 3)) (25.3.0)\n",
            "Requirement already satisfied: jsonschema-specifications>=2023.03.6 in /usr/local/lib/python3.12/dist-packages (from jsonschema>=2.6->nbformat->notebook->-r requirements.txt (line 3)) (2025.9.1)\n",
            "Requirement already satisfied: referencing>=0.28.4 in /usr/local/lib/python3.12/dist-packages (from jsonschema>=2.6->nbformat->notebook->-r requirements.txt (line 3)) (0.36.2)\n",
            "Requirement already satisfied: rpds-py>=0.7.1 in /usr/local/lib/python3.12/dist-packages (from jsonschema>=2.6->nbformat->notebook->-r requirements.txt (line 3)) (0.27.1)\n",
            "Requirement already satisfied: jupyter-events>=0.9.0 in /usr/local/lib/python3.12/dist-packages (from jupyter-server<3,>=2.4.0->jupyterlab->jupyter->-r requirements.txt (line 2)) (0.12.0)\n",
            "Requirement already satisfied: jupyter-server-terminals>=0.4.4 in /usr/local/lib/python3.12/dist-packages (from jupyter-server<3,>=2.4.0->jupyterlab->jupyter->-r requirements.txt (line 2)) (0.5.3)\n",
            "Requirement already satisfied: overrides>=5.0 in /usr/local/lib/python3.12/dist-packages (from jupyter-server<3,>=2.4.0->jupyterlab->jupyter->-r requirements.txt (line 2)) (7.7.0)\n",
            "Requirement already satisfied: websocket-client>=1.7 in /usr/local/lib/python3.12/dist-packages (from jupyter-server<3,>=2.4.0->jupyterlab->jupyter->-r requirements.txt (line 2)) (1.8.0)\n",
            "Requirement already satisfied: babel>=2.10 in /usr/local/lib/python3.12/dist-packages (from jupyterlab-server<3,>=2.27.1->jupyterlab->jupyter->-r requirements.txt (line 2)) (2.17.0)\n",
            "Collecting json5>=0.9.0 (from jupyterlab-server<3,>=2.27.1->jupyterlab->jupyter->-r requirements.txt (line 2))\n",
            "  Downloading json5-0.12.1-py3-none-any.whl.metadata (36 kB)\n",
            "Requirement already satisfied: requests>=2.31 in /usr/local/lib/python3.12/dist-packages (from jupyterlab-server<3,>=2.27.1->jupyterlab->jupyter->-r requirements.txt (line 2)) (2.32.4)\n",
            "Requirement already satisfied: wcwidth in /usr/local/lib/python3.12/dist-packages (from prompt-toolkit>=3.0.30->jupyter-console->jupyter->-r requirements.txt (line 2)) (0.2.13)\n",
            "Requirement already satisfied: cffi>=1.0.1 in /usr/local/lib/python3.12/dist-packages (from argon2-cffi-bindings->argon2-cffi->notebook->-r requirements.txt (line 3)) (2.0.0)\n",
            "Requirement already satisfied: soupsieve>1.2 in /usr/local/lib/python3.12/dist-packages (from beautifulsoup4->nbconvert->jupyter->-r requirements.txt (line 2)) (2.8)\n",
            "Requirement already satisfied: typing-extensions>=4.0.0 in /usr/local/lib/python3.12/dist-packages (from beautifulsoup4->nbconvert->jupyter->-r requirements.txt (line 2)) (4.15.0)\n",
            "Requirement already satisfied: sniffio>=1.1 in /usr/local/lib/python3.12/dist-packages (from anyio->httpx<1,>=0.25.0->jupyterlab->jupyter->-r requirements.txt (line 2)) (1.3.1)\n",
            "Requirement already satisfied: pycparser in /usr/local/lib/python3.12/dist-packages (from cffi>=1.0.1->argon2-cffi-bindings->argon2-cffi->notebook->-r requirements.txt (line 3)) (2.23)\n",
            "Requirement already satisfied: parso<0.9.0,>=0.8.4 in /usr/local/lib/python3.12/dist-packages (from jedi>=0.16->ipython>=7.23.1->ipykernel->jupyter->-r requirements.txt (line 2)) (0.8.5)\n",
            "Requirement already satisfied: python-json-logger>=2.0.4 in /usr/local/lib/python3.12/dist-packages (from jupyter-events>=0.9.0->jupyter-server<3,>=2.4.0->jupyterlab->jupyter->-r requirements.txt (line 2)) (3.3.0)\n",
            "Requirement already satisfied: pyyaml>=5.3 in /usr/local/lib/python3.12/dist-packages (from jupyter-events>=0.9.0->jupyter-server<3,>=2.4.0->jupyterlab->jupyter->-r requirements.txt (line 2)) (6.0.2)\n",
            "Requirement already satisfied: rfc3339-validator in /usr/local/lib/python3.12/dist-packages (from jupyter-events>=0.9.0->jupyter-server<3,>=2.4.0->jupyterlab->jupyter->-r requirements.txt (line 2)) (0.1.4)\n",
            "Requirement already satisfied: rfc3986-validator>=0.1.1 in /usr/local/lib/python3.12/dist-packages (from jupyter-events>=0.9.0->jupyter-server<3,>=2.4.0->jupyterlab->jupyter->-r requirements.txt (line 2)) (0.1.1)\n",
            "Requirement already satisfied: charset_normalizer<4,>=2 in /usr/local/lib/python3.12/dist-packages (from requests>=2.31->jupyterlab-server<3,>=2.27.1->jupyterlab->jupyter->-r requirements.txt (line 2)) (3.4.3)\n",
            "Requirement already satisfied: urllib3<3,>=1.21.1 in /usr/local/lib/python3.12/dist-packages (from requests>=2.31->jupyterlab-server<3,>=2.27.1->jupyterlab->jupyter->-r requirements.txt (line 2)) (2.5.0)\n",
            "Requirement already satisfied: fqdn in /usr/local/lib/python3.12/dist-packages (from jsonschema[format-nongpl]>=4.18.0->jupyter-events>=0.9.0->jupyter-server<3,>=2.4.0->jupyterlab->jupyter->-r requirements.txt (line 2)) (1.5.1)\n",
            "Requirement already satisfied: isoduration in /usr/local/lib/python3.12/dist-packages (from jsonschema[format-nongpl]>=4.18.0->jupyter-events>=0.9.0->jupyter-server<3,>=2.4.0->jupyterlab->jupyter->-r requirements.txt (line 2)) (20.11.0)\n",
            "Requirement already satisfied: jsonpointer>1.13 in /usr/local/lib/python3.12/dist-packages (from jsonschema[format-nongpl]>=4.18.0->jupyter-events>=0.9.0->jupyter-server<3,>=2.4.0->jupyterlab->jupyter->-r requirements.txt (line 2)) (3.0.0)\n",
            "Requirement already satisfied: rfc3987-syntax>=1.1.0 in /usr/local/lib/python3.12/dist-packages (from jsonschema[format-nongpl]>=4.18.0->jupyter-events>=0.9.0->jupyter-server<3,>=2.4.0->jupyterlab->jupyter->-r requirements.txt (line 2)) (1.1.0)\n",
            "Requirement already satisfied: uri-template in /usr/local/lib/python3.12/dist-packages (from jsonschema[format-nongpl]>=4.18.0->jupyter-events>=0.9.0->jupyter-server<3,>=2.4.0->jupyterlab->jupyter->-r requirements.txt (line 2)) (1.3.0)\n",
            "Requirement already satisfied: webcolors>=24.6.0 in /usr/local/lib/python3.12/dist-packages (from jsonschema[format-nongpl]>=4.18.0->jupyter-events>=0.9.0->jupyter-server<3,>=2.4.0->jupyterlab->jupyter->-r requirements.txt (line 2)) (24.11.1)\n",
            "Requirement already satisfied: lark>=1.2.2 in /usr/local/lib/python3.12/dist-packages (from rfc3987-syntax>=1.1.0->jsonschema[format-nongpl]>=4.18.0->jupyter-events>=0.9.0->jupyter-server<3,>=2.4.0->jupyterlab->jupyter->-r requirements.txt (line 2)) (1.2.2)\n",
            "Requirement already satisfied: arrow>=0.15.0 in /usr/local/lib/python3.12/dist-packages (from isoduration->jsonschema[format-nongpl]>=4.18.0->jupyter-events>=0.9.0->jupyter-server<3,>=2.4.0->jupyterlab->jupyter->-r requirements.txt (line 2)) (1.3.0)\n",
            "Requirement already satisfied: types-python-dateutil>=2.8.10 in /usr/local/lib/python3.12/dist-packages (from arrow>=0.15.0->isoduration->jsonschema[format-nongpl]>=4.18.0->jupyter-events>=0.9.0->jupyter-server<3,>=2.4.0->jupyterlab->jupyter->-r requirements.txt (line 2)) (2.9.0.20250822)\n",
            "Downloading jupyter-1.1.1-py2.py3-none-any.whl (2.7 kB)\n",
            "Downloading jupyterlab-4.4.7-py3-none-any.whl (12.3 MB)\n",
            "\u001b[2K   \u001b[90m━━━━━━━━━━━━━━━━━━━━━━━━━━━━━━━━━━━━━━━━\u001b[0m \u001b[32m12.3/12.3 MB\u001b[0m \u001b[31m65.5 MB/s\u001b[0m eta \u001b[36m0:00:00\u001b[0m\n",
            "\u001b[?25hDownloading async_lru-2.0.5-py3-none-any.whl (6.1 kB)\n",
            "Downloading jupyter_lsp-2.3.0-py3-none-any.whl (76 kB)\n",
            "\u001b[2K   \u001b[90m━━━━━━━━━━━━━━━━━━━━━━━━━━━━━━━━━━━━━━━━\u001b[0m \u001b[32m76.7/76.7 kB\u001b[0m \u001b[31m4.6 MB/s\u001b[0m eta \u001b[36m0:00:00\u001b[0m\n",
            "\u001b[?25hDownloading jupyterlab_server-2.27.3-py3-none-any.whl (59 kB)\n",
            "\u001b[2K   \u001b[90m━━━━━━━━━━━━━━━━━━━━━━━━━━━━━━━━━━━━━━━━\u001b[0m \u001b[32m59.7/59.7 kB\u001b[0m \u001b[31m3.6 MB/s\u001b[0m eta \u001b[36m0:00:00\u001b[0m\n",
            "\u001b[?25hDownloading jedi-0.19.2-py2.py3-none-any.whl (1.6 MB)\n",
            "\u001b[2K   \u001b[90m━━━━━━━━━━━━━━━━━━━━━━━━━━━━━━━━━━━━━━━━\u001b[0m \u001b[32m1.6/1.6 MB\u001b[0m \u001b[31m63.8 MB/s\u001b[0m eta \u001b[36m0:00:00\u001b[0m\n",
            "\u001b[?25hDownloading json5-0.12.1-py3-none-any.whl (36 kB)\n",
            "Building wheels for collected packages: filterpy\n",
            "  Building wheel for filterpy (setup.py) ... \u001b[?25l\u001b[?25hdone\n",
            "  Created wheel for filterpy: filename=filterpy-1.4.5-py3-none-any.whl size=110460 sha256=235582a3a93dc94d86b2cb78f043aa7201c26082841590b9e741eb5313a6a6e3\n",
            "  Stored in directory: /root/.cache/pip/wheels/77/bf/4c/b0c3f4798a0166668752312a67118b27a3cd341e13ac0ae6ee\n",
            "Successfully built filterpy\n",
            "Installing collected packages: json5, jedi, async-lru, filterpy, jupyterlab-server, jupyter-lsp, jupyterlab, jupyter\n",
            "Successfully installed async-lru-2.0.5 filterpy-1.4.5 jedi-0.19.2 json5-0.12.1 jupyter-1.1.1 jupyter-lsp-2.3.0 jupyterlab-4.4.7 jupyterlab-server-2.27.3\n",
            "Finished setup!\n"
          ]
        }
      ],
      "source": [
        "# # Colab makeup\n",
        "\n",
        "# Clone the book repo\n",
        "!git clone https://github.com/rlabbe/Kalman-and-Bayesian-Filters-in-Python.git\n",
        "# Change into the repo directory\n",
        "%cd Kalman-and-Bayesian-Filters-in-Python\n",
        "# Install requirements (optional, but good to have)\n",
        "!pip install -r requirements.txt\n",
        "# Add repo to Python path\n",
        "import sys\n",
        "sys.path.append('/content/Kalman-and-Bayesian-Filters-in-Python')\n",
        "print(\"Finished setup!\")"
      ]
    },
    {
      "cell_type": "code",
      "execution_count": null,
      "metadata": {
        "colab": {
          "base_uri": "https://localhost:8080/"
        },
        "id": "oxSfzrYebkeb",
        "outputId": "b2be892e-daf2-4506-b885-378e0006e2b2",
        "collapsed": true
      },
      "outputs": [
        {
          "output_type": "stream",
          "name": "stderr",
          "text": [
            "/content/Kalman-and-Bayesian-Filters-in-Python/kf_book/book_plots.py:139: SyntaxWarning: invalid escape sequence '\\m'\n",
            "  ax.annotate('Measurement ($\\mathbf{z_k}$)',\n",
            "/content/Kalman-and-Bayesian-Filters-in-Python/kf_book/book_plots.py:154: SyntaxWarning: invalid escape sequence '\\m'\n",
            "  ax.annotate('Initial\\nConditions ($\\mathbf{x_0}$)',\n",
            "/content/Kalman-and-Bayesian-Filters-in-Python/kf_book/book_plots.py:161: SyntaxWarning: invalid escape sequence '\\m'\n",
            "  plt.text (4, 3.7,'State Estimate ($\\mathbf{\\hat{x}_k}$)',\n"
          ]
        },
        {
          "output_type": "execute_result",
          "data": {
            "text/plain": [
              "{'__name__': '<run_path>',\n",
              " '__doc__': 'Copyright 2015 Roger R Labbe Jr.\\n\\n\\nCode supporting the book\\n\\nKalman and Bayesian Filters in Python\\nhttps://github.com/rlabbe/Kalman-and-Bayesian-Filters-in-Python\\n\\n\\nThis is licensed under an MIT license. See the LICENSE.txt file\\nfor more information.\\n',\n",
              " '__package__': '',\n",
              " '__loader__': None,\n",
              " '__spec__': None,\n",
              " '__file__': 'book_format.py',\n",
              " '__cached__': None,\n",
              " '__builtins__': {'__name__': 'builtins',\n",
              "  '__doc__': \"Built-in functions, types, exceptions, and other objects.\\n\\nThis module provides direct access to all 'built-in'\\nidentifiers of Python; for example, builtins.len is\\nthe full name for the built-in function len().\\n\\nThis module is not normally accessed explicitly by most\\napplications, but can be useful in modules that provide\\nobjects with the same name as a built-in value, but in\\nwhich the built-in of that name is also needed.\",\n",
              "  '__package__': '',\n",
              "  '__loader__': _frozen_importlib.BuiltinImporter,\n",
              "  '__spec__': ModuleSpec(name='builtins', loader=<class '_frozen_importlib.BuiltinImporter'>, origin='built-in'),\n",
              "  '__build_class__': <function __build_class__>,\n",
              "  '__import__': <function __import__(name, globals=None, locals=None, fromlist=(), level=0)>,\n",
              "  'abs': <function abs(x, /)>,\n",
              "  'all': <function all(iterable, /)>,\n",
              "  'any': <function any(iterable, /)>,\n",
              "  'ascii': <function ascii(obj, /)>,\n",
              "  'bin': <function bin(number, /)>,\n",
              "  'breakpoint': <function breakpoint>,\n",
              "  'callable': <function callable(obj, /)>,\n",
              "  'chr': <function chr(i, /)>,\n",
              "  'compile': <function compile(source, filename, mode, flags=0, dont_inherit=False, optimize=-1, *, _feature_version=-1)>,\n",
              "  'delattr': <function delattr(obj, name, /)>,\n",
              "  'dir': <function dir>,\n",
              "  'divmod': <function divmod(x, y, /)>,\n",
              "  'eval': <function eval(source, globals=None, locals=None, /)>,\n",
              "  'exec': <function exec(source, globals=None, locals=None, /, *, closure=None)>,\n",
              "  'format': <function format(value, format_spec='', /)>,\n",
              "  'getattr': <function getattr>,\n",
              "  'globals': <function globals()>,\n",
              "  'hasattr': <function hasattr(obj, name, /)>,\n",
              "  'hash': <function hash(obj, /)>,\n",
              "  'hex': <function hex(number, /)>,\n",
              "  'id': <function id(obj, /)>,\n",
              "  'input': <bound method Kernel.raw_input of <google.colab._kernel.Kernel object at 0x7ba142798a40>>,\n",
              "  'isinstance': <function isinstance(obj, class_or_tuple, /)>,\n",
              "  'issubclass': <function issubclass(cls, class_or_tuple, /)>,\n",
              "  'iter': <function iter>,\n",
              "  'aiter': <function aiter(async_iterable, /)>,\n",
              "  'len': <function len(obj, /)>,\n",
              "  'locals': <function locals()>,\n",
              "  'max': <function max>,\n",
              "  'min': <function min>,\n",
              "  'next': <function next>,\n",
              "  'anext': <function anext>,\n",
              "  'oct': <function oct(number, /)>,\n",
              "  'ord': <function ord(c, /)>,\n",
              "  'pow': <function pow(base, exp, mod=None)>,\n",
              "  'print': <function print(*args, sep=' ', end='\\n', file=None, flush=False)>,\n",
              "  'repr': <function repr(obj, /)>,\n",
              "  'round': <function round(number, ndigits=None)>,\n",
              "  'setattr': <function setattr(obj, name, value, /)>,\n",
              "  'sorted': <function sorted(iterable, /, *, key=None, reverse=False)>,\n",
              "  'sum': <function sum(iterable, /, start=0)>,\n",
              "  'vars': <function vars>,\n",
              "  'None': None,\n",
              "  'Ellipsis': Ellipsis,\n",
              "  'NotImplemented': NotImplemented,\n",
              "  'False': False,\n",
              "  'True': True,\n",
              "  'bool': bool,\n",
              "  'memoryview': memoryview,\n",
              "  'bytearray': bytearray,\n",
              "  'bytes': bytes,\n",
              "  'classmethod': classmethod,\n",
              "  'complex': complex,\n",
              "  'dict': dict,\n",
              "  'enumerate': enumerate,\n",
              "  'filter': filter,\n",
              "  'float': float,\n",
              "  'frozenset': frozenset,\n",
              "  'property': property,\n",
              "  'int': int,\n",
              "  'list': list,\n",
              "  'map': map,\n",
              "  'object': object,\n",
              "  'range': range,\n",
              "  'reversed': reversed,\n",
              "  'set': set,\n",
              "  'slice': slice,\n",
              "  'staticmethod': staticmethod,\n",
              "  'str': str,\n",
              "  'super': super,\n",
              "  'tuple': tuple,\n",
              "  'type': type,\n",
              "  'zip': zip,\n",
              "  '__debug__': True,\n",
              "  'BaseException': BaseException,\n",
              "  'BaseExceptionGroup': BaseExceptionGroup,\n",
              "  'Exception': Exception,\n",
              "  'GeneratorExit': GeneratorExit,\n",
              "  'KeyboardInterrupt': KeyboardInterrupt,\n",
              "  'SystemExit': SystemExit,\n",
              "  'ArithmeticError': ArithmeticError,\n",
              "  'AssertionError': AssertionError,\n",
              "  'AttributeError': AttributeError,\n",
              "  'BufferError': BufferError,\n",
              "  'EOFError': EOFError,\n",
              "  'ImportError': ImportError,\n",
              "  'LookupError': LookupError,\n",
              "  'MemoryError': MemoryError,\n",
              "  'NameError': NameError,\n",
              "  'OSError': OSError,\n",
              "  'ReferenceError': ReferenceError,\n",
              "  'RuntimeError': RuntimeError,\n",
              "  'StopAsyncIteration': StopAsyncIteration,\n",
              "  'StopIteration': StopIteration,\n",
              "  'SyntaxError': SyntaxError,\n",
              "  'SystemError': SystemError,\n",
              "  'TypeError': TypeError,\n",
              "  'ValueError': ValueError,\n",
              "  'Warning': Warning,\n",
              "  'FloatingPointError': FloatingPointError,\n",
              "  'OverflowError': OverflowError,\n",
              "  'ZeroDivisionError': ZeroDivisionError,\n",
              "  'BytesWarning': BytesWarning,\n",
              "  'DeprecationWarning': DeprecationWarning,\n",
              "  'EncodingWarning': EncodingWarning,\n",
              "  'FutureWarning': FutureWarning,\n",
              "  'ImportWarning': ImportWarning,\n",
              "  'PendingDeprecationWarning': PendingDeprecationWarning,\n",
              "  'ResourceWarning': ResourceWarning,\n",
              "  'RuntimeWarning': RuntimeWarning,\n",
              "  'SyntaxWarning': SyntaxWarning,\n",
              "  'UnicodeWarning': UnicodeWarning,\n",
              "  'UserWarning': UserWarning,\n",
              "  'BlockingIOError': BlockingIOError,\n",
              "  'ChildProcessError': ChildProcessError,\n",
              "  'ConnectionError': ConnectionError,\n",
              "  'FileExistsError': FileExistsError,\n",
              "  'FileNotFoundError': FileNotFoundError,\n",
              "  'InterruptedError': InterruptedError,\n",
              "  'IsADirectoryError': IsADirectoryError,\n",
              "  'NotADirectoryError': NotADirectoryError,\n",
              "  'PermissionError': PermissionError,\n",
              "  'ProcessLookupError': ProcessLookupError,\n",
              "  'TimeoutError': TimeoutError,\n",
              "  'IndentationError': IndentationError,\n",
              "  'IndexError': IndexError,\n",
              "  'KeyError': KeyError,\n",
              "  'ModuleNotFoundError': ModuleNotFoundError,\n",
              "  'NotImplementedError': NotImplementedError,\n",
              "  'RecursionError': RecursionError,\n",
              "  'UnboundLocalError': UnboundLocalError,\n",
              "  'UnicodeError': UnicodeError,\n",
              "  'BrokenPipeError': BrokenPipeError,\n",
              "  'ConnectionAbortedError': ConnectionAbortedError,\n",
              "  'ConnectionRefusedError': ConnectionRefusedError,\n",
              "  'ConnectionResetError': ConnectionResetError,\n",
              "  'TabError': TabError,\n",
              "  'UnicodeDecodeError': UnicodeDecodeError,\n",
              "  'UnicodeEncodeError': UnicodeEncodeError,\n",
              "  'UnicodeTranslateError': UnicodeTranslateError,\n",
              "  'ExceptionGroup': ExceptionGroup,\n",
              "  'EnvironmentError': OSError,\n",
              "  'IOError': OSError,\n",
              "  'open': <function _io.open(file, mode='r', buffering=-1, encoding=None, errors=None, newline=None, closefd=True, opener=None)>,\n",
              "  'copyright': Copyright (c) 2001-2023 Python Software Foundation.\n",
              "  All Rights Reserved.\n",
              "  \n",
              "  Copyright (c) 2000 BeOpen.com.\n",
              "  All Rights Reserved.\n",
              "  \n",
              "  Copyright (c) 1995-2001 Corporation for National Research Initiatives.\n",
              "  All Rights Reserved.\n",
              "  \n",
              "  Copyright (c) 1991-1995 Stichting Mathematisch Centrum, Amsterdam.\n",
              "  All Rights Reserved.,\n",
              "  'credits':     Thanks to CWI, CNRI, BeOpen, Zope Corporation, the Python Software\n",
              "      Foundation, and a cast of thousands for supporting Python\n",
              "      development.  See www.python.org for more information.,\n",
              "  'license': Type license() to see the full license text,\n",
              "  'help': Type help() for interactive help, or help(object) for help about object.,\n",
              "  'execfile': <function _pydev_bundle._pydev_execfile.execfile(file, glob=None, loc=None)>,\n",
              "  'runfile': <function _pydev_bundle.pydev_umd.runfile(filename, args=None, wdir=None, namespace=None)>,\n",
              "  '__IPYTHON__': True,\n",
              "  'display': <function IPython.core.display.display(*objs, include=None, exclude=None, metadata=None, transient=None, display_id=None, **kwargs)>,\n",
              "  'get_ipython': <bound method InteractiveShell.get_ipython of <google.colab._shell.Shell object at 0x7ba142798d10>>},\n",
              " 'contextmanager': <function contextlib.contextmanager(func)>,\n",
              " 'HTML': IPython.core.display.HTML,\n",
              " 'json': <module 'json' from '/usr/lib/python3.12/json/__init__.py'>,\n",
              " 'os': <module 'os' (frozen)>,\n",
              " 'sys': <module 'sys' (built-in)>,\n",
              " 'warnings': <module 'warnings' from '/usr/lib/python3.12/warnings.py'>,\n",
              " 'set_figsize': <function kf_book.book_plots.set_figsize(x=9, y=4)>,\n",
              " 'reset_figsize': <function kf_book.book_plots.reset_figsize()>,\n",
              " 'test_installation': <function <run_path>.test_installation()>,\n",
              " '__warningregistry__': {'version': 89},\n",
              " 'matplotlib': <module 'matplotlib' from '/usr/local/lib/python3.12/dist-packages/matplotlib/__init__.py'>,\n",
              " 'pylab': <module 'matplotlib.pylab' from '/usr/local/lib/python3.12/dist-packages/matplotlib/pylab.py'>,\n",
              " 'plt': <module 'matplotlib.pyplot' from '/usr/local/lib/python3.12/dist-packages/matplotlib/pyplot.py'>,\n",
              " 'np': <module 'numpy' from '/usr/local/lib/python3.12/dist-packages/numpy/__init__.py'>,\n",
              " 'numpy_precision': <function <run_path>.numpy_precision(precision)>,\n",
              " 'printoptions': <function <run_path>.printoptions(*args, **kwargs)>,\n",
              " '_decode_list': <function <run_path>._decode_list(data)>,\n",
              " '_decode_dict': <function <run_path>._decode_dict(data)>,\n",
              " 'set_style': <function <run_path>.set_style()>}"
            ]
          },
          "metadata": {},
          "execution_count": 4
        }
      ],
      "source": [
        "# # Colab makeup\n",
        "#format the book\n",
        "import runpy\n",
        "runpy.run_path('book_format.py')"
      ]
    },
    {
      "cell_type": "code",
      "execution_count": null,
      "metadata": {
        "nbgrader": {
          "grade": false,
          "grade_id": "cell-996b75b472def97e",
          "locked": true,
          "schema_version": 1,
          "solution": false
        },
        "colab": {
          "base_uri": "https://localhost:8080/"
        },
        "id": "KsfQBw2HYBhh",
        "outputId": "51a20394-e1b8-4065-ba3e-d9f9a60b1a4d"
      },
      "outputs": [
        {
          "output_type": "stream",
          "name": "stderr",
          "text": [
            "/content/Kalman-and-Bayesian-Filters-in-Python/kf_book/gh_internal.py:140: SyntaxWarning: invalid escape sequence '\\h'\n",
            "  plt.text (0.0, 159.8, \"last estimate ($\\hat{x}_{t-1}$)\", ha='left', va='top',fontsize=18)\n",
            "/content/Kalman-and-Bayesian-Filters-in-Python/kf_book/gh_internal.py:166: SyntaxWarning: invalid escape sequence '\\h'\n",
            "  plt.text (0, 159.8, \"last estimate ($\\hat{x}_{t-1}$)\", ha='left', va='top',fontsize=18)\n",
            "/content/Kalman-and-Bayesian-Filters-in-Python/kf_book/gh_internal.py:167: SyntaxWarning: invalid escape sequence '\\h'\n",
            "  plt.text (0.95, est_y, \"estimate ($\\hat{x}_{t}$)\", ha='right', va='center',fontsize=18)\n"
          ]
        }
      ],
      "source": [
        "import kf_book.gh_internal as gh\n",
        "import kf_book.book_plots as book_plots\n",
        "\n",
        "from kf_book.book_plots import figsize, plot_errorbars\n",
        "import matplotlib.pyplot as plt\n",
        "\n",
        "from kf_book.gh_internal import plot_g_h_results\n",
        "import matplotlib.pylab as pylab\n"
      ]
    },
    {
      "cell_type": "markdown",
      "metadata": {
        "id": "nbCaviZuYBhh"
      },
      "source": [
        "First, we will vectorize some of the code shared in the lecture."
      ]
    },
    {
      "cell_type": "markdown",
      "metadata": {
        "id": "dZUNaOXFYBhh"
      },
      "source": [
        "## Exercise: create measurement function"
      ]
    },
    {
      "cell_type": "markdown",
      "metadata": {
        "id": "kn3ahg4tYBhh"
      },
      "source": [
        "### Part A. Building the Filter  \n",
        "\n",
        "1. Vectorize some of the tracking code shown in lecture.  \n",
        "   - Replace `for` loops with array-based operations.  \n",
        "   - Confirm your version gives the same results.  \n",
        "\n",
        "2. Implement a measurement function.  \n",
        "   - This function should simulate noisy sensor measurements.  "
      ]
    },
    {
      "cell_type": "markdown",
      "metadata": {
        "id": "bOKYeAIwYBhh"
      },
      "source": [
        "Below is the gen_data_for method that we developed to create noisy data."
      ]
    },
    {
      "cell_type": "code",
      "execution_count": null,
      "metadata": {
        "nbgrader": {
          "grade": false,
          "grade_id": "cell-fa0d876db3176315",
          "locked": true,
          "schema_version": 1,
          "solution": false
        },
        "id": "nwQtOnayYBhi"
      },
      "outputs": [],
      "source": [
        "rng = np.random.RandomState(42)\n",
        "\n",
        "def gen_data_for(x0, dx, count, noise_factor):\n",
        "    '''\n",
        "    Generates noisy data\n",
        "    In:\n",
        "        'x0' is the initial value for our state variable\n",
        "        'dx' is the change rate for our state variable\n",
        "        'count' is the number of steps\n",
        "        'noise_factor' is the amount of noise we want to add\n",
        "    Out:\n",
        "        'measurements' np array, length = count\n",
        "    '''\n",
        "    return [x0 + dx*i + rng.randn()*noise_factor for i in range(count)]"
      ]
    },
    {
      "cell_type": "markdown",
      "metadata": {
        "id": "WNj9cvgGYBhi"
      },
      "source": [
        "The code above returns the desired results. However, it is not the most efficient implementation.\n",
        "\n",
        "Create another version of this method that does not use a for loop and takes advantage of vectorization.\n",
        "\n",
        "Your **(solution hidden in student version)** does not have to in one-line. It just needs to be vectorized (i.e. no `for` loops).\n",
        "\n",
        "Use `rng.randn()` in your code (instead of `np.random.randn()`, to make that you are seeding your number generator as expected.\n",
        "\n",
        "Hint: Utilize `np.arange()`, `np.linspace()` or similar."
      ]
    },
    {
      "cell_type": "code",
      "execution_count": null,
      "metadata": {
        "nbgrader": {
          "grade": false,
          "grade_id": "cell-fa0sdf6db3176315",
          "locked": false,
          "schema_version": 1,
          "solution": true
        },
        "tags": [
          "solution"
        ],
        "colab": {
          "base_uri": "https://localhost:8080/",
          "height": 110
        },
        "id": "r0TrFHd7YBhj",
        "outputId": "c53e2373-85ad-4617-b11e-289d8df756fc"
      },
      "outputs": [
        {
          "output_type": "error",
          "ename": "IndentationError",
          "evalue": "unindent does not match any outer indentation level (<tokenize>, line 15)",
          "traceback": [
            "\u001b[0;36m  File \u001b[0;32m\"<tokenize>\"\u001b[0;36m, line \u001b[0;32m15\u001b[0m\n\u001b[0;31m    raise NotImplementedError()\u001b[0m\n\u001b[0m    ^\u001b[0m\n\u001b[0;31mIndentationError\u001b[0m\u001b[0;31m:\u001b[0m unindent does not match any outer indentation level\n"
          ]
        }
      ],
      "source": [
        "rng = np.random.RandomState(42)\n",
        "\n",
        "def gen_data(x0, dx, count, noise_factor):\n",
        "    '''\n",
        "    Generates noisy data\n",
        "    In:\n",
        "        'x0' is the initial value for our state variable\n",
        "        'dx' is the change rate for our state variable\n",
        "        'count' is the number of steps\n",
        "        'noise_factor' is the amount of noise we want to add\n",
        "    Out:\n",
        "        'measurements' np array, length = count\n",
        "    '''\n",
        "    ### YOUR CODE HERE\n",
        "  raise NotImplementedError()"
      ]
    },
    {
      "cell_type": "code",
      "execution_count": null,
      "metadata": {
        "id": "KBGfppEKYBhj"
      },
      "outputs": [],
      "source": [
        "#user test area\n",
        "np.set_printoptions(precision=4)\n",
        "\n",
        "x0=0; dx=1; count=30; noise_factor=1\n",
        "rng = np.random.RandomState(42)\n",
        "measurements_for = gen_data_for(x0, dx, count, noise_factor)\n",
        "rng = np.random.RandomState(42)\n",
        "measurements = gen_data(x0,dx, count, noise_factor)\n",
        "\n",
        "print(measurements_for)\n",
        "print(measurements)"
      ]
    },
    {
      "cell_type": "code",
      "execution_count": null,
      "metadata": {
        "nbgrader": {
          "grade": true,
          "grade_id": "cell-0alkjjaa8c9f4c01",
          "locked": true,
          "points": 5,
          "schema_version": 1,
          "solution": false
        },
        "id": "KqLHsa_lYBhj"
      },
      "outputs": [],
      "source": [
        "x0=0; dx=1; count=5; noise_factor=1\n",
        "rng = np.random.RandomState(42)\n",
        "measurements_for = gen_data_for(x0, dx, count, noise_factor)\n",
        "rng = np.random.RandomState(42)\n",
        "measurements = gen_data(x0,dx, count, noise_factor)\n",
        "np.testing.assert_allclose( measurements_for, measurements)\n",
        "\n"
      ]
    },
    {
      "cell_type": "code",
      "execution_count": null,
      "metadata": {
        "nbgrader": {
          "grade": true,
          "grade_id": "cell-0lkjkkje2sdfs8c9f4c01",
          "locked": true,
          "points": 5,
          "schema_version": 1,
          "solution": false
        },
        "id": "TTh3_mxKYBhj"
      },
      "outputs": [],
      "source": [
        "x0=0; dx=1; count=30; noise_factor=1\n",
        "rng = np.random.RandomState(42)\n",
        "measurements_for = gen_data_for(x0, dx, count, noise_factor)\n",
        "rng = np.random.RandomState(42)\n",
        "measurements = gen_data(x0,dx, count, noise_factor)\n",
        "np.testing.assert_allclose( measurements_for, measurements)\n",
        "\n"
      ]
    },
    {
      "cell_type": "code",
      "execution_count": null,
      "metadata": {
        "nbgrader": {
          "grade": true,
          "grade_id": "cell-0a2bek8cjhkjh9f4c01",
          "locked": true,
          "points": 5,
          "schema_version": 1,
          "solution": false
        },
        "id": "kS2uRzmWYBhj"
      },
      "outputs": [],
      "source": [
        "x0=5; dx=2; count=30; noise_factor=3\n",
        "rng = np.random.RandomState(42)\n",
        "measurements_for = gen_data_for(x0, dx, count, noise_factor)\n",
        "rng = np.random.RandomState(42)\n",
        "measurements = gen_data(x0,dx, count, noise_factor)\n",
        "np.testing.assert_allclose( measurements_for, measurements)\n",
        "\n"
      ]
    },
    {
      "cell_type": "markdown",
      "metadata": {
        "id": "Wt8MNVF-YBhj"
      },
      "source": [
        "## Exercise: The Effect of Acceleration"
      ]
    },
    {
      "cell_type": "markdown",
      "metadata": {
        "id": "HhdBFG1qYBhk"
      },
      "source": [
        "Below is the gen_data_for method that we developed to create noisy data."
      ]
    },
    {
      "cell_type": "code",
      "execution_count": null,
      "metadata": {
        "id": "s655yIkOYBhk"
      },
      "outputs": [],
      "source": []
    },
    {
      "cell_type": "code",
      "execution_count": null,
      "metadata": {
        "nbgrader": {
          "grade": false,
          "grade_id": "cell-cec7903kjhhj63ae64",
          "locked": true,
          "schema_version": 1,
          "solution": false
        },
        "id": "PEtwps5AYBhk"
      },
      "outputs": [],
      "source": [
        "rng = np.random.RandomState(42)\n",
        "\n",
        "def gen_data_accel_for(x0, dx, count, noise_factor, accel=0.):\n",
        "    '''\n",
        "    Generates noisy data\n",
        "    In:\n",
        "        'x0' is the initial value for our state variable\n",
        "        'dx' is the change rate for our state variable\n",
        "        'count' is the number of steps\n",
        "        'noise_factor' is the amount of noise we want to add\n",
        "        'accel' is the constant acceleration factor added to each data point\n",
        "    Out:\n",
        "        'measurements' np array, length = count\n",
        "    '''\n",
        "    zs = []\n",
        "    for i in range(count):\n",
        "        zs.append(x0 + dx*i + rng.randn()*noise_factor)\n",
        "        dx += accel\n",
        "    return zs\n"
      ]
    },
    {
      "cell_type": "markdown",
      "metadata": {
        "id": "24wU8p5xYBhk"
      },
      "source": [
        "The code above returns the desired results. However, it is not the most efficient implementation.\n",
        "\n",
        "Create another version of this method that does not use a for loop and takes advantage of vectorization.\n",
        "\n",
        "Your **(solution hidden in student version)** does not have to in one-line. It just needs to be vectorized (i.e. no `for` loops).\n",
        "\n",
        "Use `rng.randn()` in your code (instead of `np.random.randn()`, to make that you are seeding your number generator as expected.\n",
        "\n",
        "Hint: Utilize `np.arange()`, `np.linspace()` or similar."
      ]
    },
    {
      "cell_type": "code",
      "execution_count": null,
      "metadata": {
        "nbgrader": {
          "grade": false,
          "grade_id": "cell-fa0sdkhjhb3176315",
          "locked": false,
          "schema_version": 1,
          "solution": true
        },
        "tags": [
          "solution"
        ],
        "id": "T9ahbHHhYBhk"
      },
      "outputs": [],
      "source": [
        "rng = np.random.RandomState(42)\n",
        "\n",
        "def gen_data_accel(x0, dx, count, noise_factor, accel=0.):\n",
        "    '''\n",
        "    Generates noisy data\n",
        "    In:\n",
        "        'x0' is the initial value for our state variable\n",
        "        'dx' is the change rate for our state variable\n",
        "        'count' is the number of steps\n",
        "        'noise_factor' is the amount of noise we want to add\n",
        "        'accel' is the constant acceleration factor added to each data point\n",
        "    Out:\n",
        "        'measurements' np array, length = count\n",
        "    '''\n",
        "    ### YOUR CODE HERE\n",
        "  raise NotImplementedError()"
      ]
    },
    {
      "cell_type": "code",
      "execution_count": null,
      "metadata": {
        "id": "Sg5Fqr-qYBhk"
      },
      "outputs": [],
      "source": [
        "#user test area\n",
        "np.set_printoptions(precision=4)\n",
        "\n",
        "x0=0; dx=1; count=30; noise_factor=1; accel=0.;\n",
        "rng = np.random.RandomState(42)\n",
        "measurements_for = gen_data_accel_for(x0, dx, count, noise_factor, accel)\n",
        "rng = np.random.RandomState(42)\n",
        "measurements = gen_data_accel(x0,dx, count, noise_factor, accel)\n",
        "\n",
        "print(measurements_for)\n",
        "print(measurements)"
      ]
    },
    {
      "cell_type": "code",
      "execution_count": null,
      "metadata": {
        "nbgrader": {
          "grade": true,
          "grade_id": "cell-0hhkjhhf4c01",
          "locked": true,
          "points": 5,
          "schema_version": 1,
          "solution": false
        },
        "id": "6a7AGHQMYBhk"
      },
      "outputs": [],
      "source": [
        "x0=0; dx=1; count=5; noise_factor=1;accel=0.;\n",
        "rng = np.random.RandomState(42)\n",
        "measurements_for = gen_data_accel_for(x0, dx, count, noise_factor, accel)\n",
        "rng = np.random.RandomState(42)\n",
        "measurements = gen_data_accel(x0,dx, count, noise_factor, accel)\n",
        "np.testing.assert_allclose( measurements_for, measurements)\n",
        "\n"
      ]
    },
    {
      "cell_type": "code",
      "execution_count": null,
      "metadata": {
        "nbgrader": {
          "grade": true,
          "grade_id": "cell-0a2kfs8c9hkjhf4c01",
          "locked": true,
          "points": 5,
          "schema_version": 1,
          "solution": false
        },
        "id": "5OsWsfx9YBhl"
      },
      "outputs": [],
      "source": [
        "x0=0; dx=1; count=30; noise_factor=1;accel=1.;\n",
        "rng = np.random.RandomState(42)\n",
        "measurements_for = gen_data_accel_for(x0, dx, count, noise_factor, accel)\n",
        "rng = np.random.RandomState(42)\n",
        "measurements = gen_data_accel(x0,dx, count, noise_factor, accel)\n",
        "np.testing.assert_allclose( measurements_for, measurements)\n",
        "\n"
      ]
    },
    {
      "cell_type": "code",
      "execution_count": null,
      "metadata": {
        "nbgrader": {
          "grade": true,
          "grade_id": "cell-0a2kjhkjhk8c9f4c01",
          "locked": true,
          "points": 5,
          "schema_version": 1,
          "solution": false
        },
        "id": "M329db-DYBhl"
      },
      "outputs": [],
      "source": [
        "x0=5; dx=2; count=30; noise_factor=3;accel=2.;\n",
        "rng = np.random.RandomState(42)\n",
        "measurements_for = gen_data_accel_for(x0, dx, count, noise_factor, accel)\n",
        "rng = np.random.RandomState(42)\n",
        "measurements = gen_data_accel(x0,dx, count, noise_factor, accel)\n",
        "np.testing.assert_allclose( measurements_for, measurements)\n",
        "\n"
      ]
    },
    {
      "cell_type": "markdown",
      "metadata": {
        "id": "icAWyx7TYBhl"
      },
      "source": [
        "## Filtering: Error calculation\n"
      ]
    },
    {
      "cell_type": "markdown",
      "metadata": {
        "id": "YHmmTkJqYBhl"
      },
      "source": [
        "If the true data is known, we can evaluate the performance of our filter.\n",
        "\n",
        "The code below uses the filter from the lecture against simulated data to estimate its performance."
      ]
    },
    {
      "cell_type": "code",
      "execution_count": null,
      "metadata": {
        "nbgrader": {
          "grade": false,
          "grade_id": "cell-992f49baf6174c97",
          "locked": true,
          "schema_version": 1,
          "solution": false
        },
        "id": "WsuUOTooYBhl"
      },
      "outputs": [],
      "source": [
        "rng = np.random.RandomState(42)\n",
        "#true positions of\n",
        "positions = np.array([10, 20, 30, 40, 50])\n",
        "#measured/noisy positions\n",
        "positions_n = positions+rng.randn(5)\n",
        "\n",
        "distances = np.array([10, 10, 10, 10, 10])\n",
        "#measured/noisy positions\n",
        "distances_n = distances+rng.randn(5)\n"
      ]
    },
    {
      "cell_type": "code",
      "execution_count": null,
      "metadata": {
        "nbgrader": {
          "grade": false,
          "grade_id": "cell-8522e606c9e79613",
          "locked": true,
          "schema_version": 1,
          "solution": false
        },
        "id": "MUaJVQbeYBhl"
      },
      "outputs": [],
      "source": [
        "from kf_book.gh_internal import plot_g_h_results\n",
        "import matplotlib.pylab as pylab\n",
        "\n",
        "def g_h_filter(data, x0, dx, g, h, dt=1.):\n",
        "    '''\n",
        "    Performs g-h filter on 1 state variable with a fixed g and h.\n",
        "    In:\n",
        "        'data' contains the data to be filtered.\n",
        "        'x0' is the initial value for our state variable\n",
        "        'dx' is the initial change rate for our state variable\n",
        "        'g' is the g-h's g scale factor\n",
        "        'h' is the g-h's h scale factor\n",
        "        'dt' is the length of the time step\n",
        "    Out:\n",
        "        'results' np array, same shape as data\n",
        "    '''\n",
        "    x_est = x0\n",
        "    results = []\n",
        "    for z in data:\n",
        "        # prediction step\n",
        "        x_pred = x_est + (dx*dt)\n",
        "        dx = dx\n",
        "\n",
        "        # update step\n",
        "        residual = z - x_pred\n",
        "        dx = dx + h * (residual) / dt\n",
        "        x_est = x_pred + g * residual\n",
        "        results.append(x_est)\n",
        "    return np.array(results)"
      ]
    },
    {
      "cell_type": "markdown",
      "metadata": {
        "id": "epE5dLF9YBhl"
      },
      "source": [
        "Code below calls the filter with given data using some conditions:"
      ]
    },
    {
      "cell_type": "code",
      "execution_count": null,
      "metadata": {
        "id": "EvfxbHbqYBhl"
      },
      "outputs": [],
      "source": [
        "#test code here\n",
        "data = positions_n\n",
        "estimates = g_h_filter(data=data, x0=10., dx=1., g=6./10, h=2./3, dt=1.)\n",
        "plot_g_h_results(data, estimates)\n",
        "estimates"
      ]
    },
    {
      "cell_type": "markdown",
      "metadata": {
        "id": "WWwLGblhYBhm"
      },
      "source": [
        "## Part B. Evaluating the Filter  \n",
        "\n",
        "1. Implement a method that calculates the **Mean Squared Error (MSE):**  \n",
        "\n",
        "   $$\n",
        "   \\operatorname{MSE} = \\frac{1}{n}\\sum_{i=1}^n (x_i - \\hat{x}_i)^2\n",
        "   $$  \n",
        "\n",
        "   - Make sure your implementation is **vectorized** (no Python loops).  \n",
        "   - Verify it works with simple test inputs.  "
      ]
    },
    {
      "cell_type": "markdown",
      "metadata": {
        "id": "YywY2soBYBhm"
      },
      "source": [
        "\n",
        "Vectorize your code (i.e. no `for` loops)."
      ]
    },
    {
      "cell_type": "code",
      "execution_count": null,
      "metadata": {
        "nbgrader": {
          "grade": false,
          "grade_id": "cell-056c2cc5ebe77bbb",
          "locked": false,
          "schema_version": 1,
          "solution": true
        },
        "tags": [
          "solution"
        ],
        "id": "iq-JTQ8RYBhn"
      },
      "outputs": [],
      "source": [
        "def mse(truth, estimates):\n",
        "    '''\n",
        "    Calculate the mean squared error (MSE)\n",
        "    In:\n",
        "        'truth' contains the unnoisy/true data.\n",
        "        'estiamtes' contains the g_h_filter's estimate of noisy data.\n",
        "    Out:\n",
        "        'mse' shape = 1\n",
        "    '''\n",
        "    ### YOUR CODE HERE\n",
        "  raise NotImplementedError()\n"
      ]
    },
    {
      "cell_type": "code",
      "execution_count": null,
      "metadata": {
        "id": "-kPD6kRNYBhn"
      },
      "outputs": [],
      "source": [
        "#test your code here\n",
        "data = positions_n; true=positions;\n",
        "estimates = g_h_filter(data=data, x0=10., dx=1., g=6./10, h=2./3, dt=1.)\n",
        "#filter error\n",
        "print(mse(true, estimates))\n",
        "# 4.27245219607\n",
        "#sensor error\n",
        "print(mse(true, data))\n",
        "# 0.611958031114\n"
      ]
    },
    {
      "cell_type": "code",
      "execution_count": null,
      "metadata": {
        "nbgrader": {
          "grade": true,
          "grade_id": "cell-550e10c34e0543e5",
          "locked": true,
          "points": 5,
          "schema_version": 1,
          "solution": false
        },
        "id": "_19JZNkcYBhn"
      },
      "outputs": [],
      "source": [
        "\"\"\"Check that method returns the correct output for several inputs\"\"\"\n",
        "data = positions_n; true=positions;\n",
        "estimates = g_h_filter(data=data, x0=10., dx=1., g=6./10, h=2./3, dt=1.)\n",
        "np.testing.assert_allclose( mse(true, estimates), 4.27245219607)\n",
        "\n",
        "np.testing.assert_allclose( mse(true, data), 0.611958031114)\n"
      ]
    },
    {
      "cell_type": "code",
      "execution_count": null,
      "metadata": {
        "id": "nuOieQn5YBhn"
      },
      "outputs": [],
      "source": [
        "\"\"\"Check that method returns the correct output for several inputs\"\"\"\n",
        "data = distances_n; true=distances;\n",
        "estimates = g_h_filter(data=data, x0=10., dx=1., g=6./10, h=2./3, dt=1.)\n",
        "np.testing.assert_allclose( mse(true, estimates), 0.609509847759)\n",
        "\n",
        "np.testing.assert_allclose( mse(true, data), 0.730493378945)\n"
      ]
    },
    {
      "cell_type": "code",
      "execution_count": null,
      "metadata": {
        "nbgrader": {
          "grade": true,
          "grade_id": "cell-0692235c56fe2422",
          "locked": true,
          "points": 5,
          "schema_version": 1,
          "solution": false
        },
        "id": "I-BSf-9lYBhn"
      },
      "outputs": [],
      "source": [
        "\"\"\"Check that function raises an error for invalid inputs\"\"\"\n",
        "#verify input sizes\n",
        "data = positions_n\n",
        "estimates = g_h_filter(data=data[3:], x0=10., dx=1., g=6./10, h=2./3, dt=1.)\n",
        "\n",
        "try:\n",
        "    mse(data, estimates)\n",
        "except ValueError:\n",
        "    pass\n",
        "else:\n",
        "    raise AssertionError(\"Data sizes must match.\")"
      ]
    },
    {
      "cell_type": "markdown",
      "metadata": {
        "id": "zbI8890sYBhn"
      },
      "source": [
        "## Part C. Tuning the Filter  \n",
        "\n",
        "Notice that our filter's estimated position is worse than the measured one.\n",
        "\n",
        "This defeats the purpose of using a filter.\n",
        "\n",
        "Tune the filter to optimize its performance.\n",
        "\n",
        "1. Use the provided data simulating a ball’s position captured by a camera.  \n",
        "2. Experiment with different `(g, h)` values:  \n",
        "   - Start with a “bad” guess.  \n",
        "   - Adjust until the filter tracks well.  \n",
        "3. Use the provided `tuner()` and `plot_g_h_results()` to visualize results.  \n",
        "\n",
        " **Your Task:**  \n",
        "- Record your chosen `(g, h)` values.  \n",
        "- Explain in words why your choice balances responsiveness and noise reduction.  \n",
        "- Before running, make a **prediction**: What will happen if g is very high but h is very small? Did your experiment confirm it?  "
      ]
    },
    {
      "cell_type": "markdown",
      "metadata": {
        "id": "_4A7ebl9YBho"
      },
      "source": [
        "Write a utility function named `g_h_tuner()` that given the noisy and truth data, it will return the `g` and `h` vaules that will minimize the filter's error.\n",
        "\n",
        "`g` and `h` will be limited to [0, 1] and have precision to 2 decimal places (i.e: 0.45)."
      ]
    },
    {
      "cell_type": "code",
      "execution_count": null,
      "metadata": {
        "tags": [
          "solution"
        ],
        "id": "R6PgXBljYBho"
      },
      "outputs": [],
      "source": [
        "\n",
        "def g_h_tuner(truth, data, x0, dx):\n",
        "    '''\n",
        "    Calculate the mean squared error (MSE)\n",
        "    In:\n",
        "        'truth' contains the unnoisy/true data.\n",
        "        'data' contains the noisy data.\n",
        "        'x0' is the initial value for our state variable\n",
        "        'dx' is the initial change rate for our state variable\n",
        "\n",
        "    Out:\n",
        "        'g', 'h': filter paramteres that min fimlter error.\n",
        "                They exist in [0, 1] and have a precision limited to 2 decimal places\n",
        "    '''\n",
        "    ### YOUR CODE HERE\n",
        "  raise NotImplementedError()"
      ]
    },
    {
      "cell_type": "code",
      "execution_count": null,
      "metadata": {
        "id": "GPVtjvlEYBho"
      },
      "outputs": [],
      "source": [
        "#test your code here\n",
        "data = positions_n; true=positions;\n",
        "x0=10.; dx=1.\n",
        "g,h = g_h_tuner(true, data, x0, dx)\n",
        "# (0.94, 0.04)\n",
        "# mse = 0.39"
      ]
    },
    {
      "cell_type": "code",
      "execution_count": null,
      "metadata": {
        "id": "0nRry7ieYBho"
      },
      "outputs": [],
      "source": [
        "#visualize your results\n",
        "est = g_h_filter(data, x0=x0, dx=dx, g=g, h=h, dt=1/100.)\n",
        "plot_g_h_results(est, data)"
      ]
    },
    {
      "cell_type": "code",
      "execution_count": null,
      "metadata": {
        "nbgrader": {
          "grade": true,
          "grade_id": "cell-16eef561e07e3b49",
          "locked": true,
          "points": 5,
          "schema_version": 1,
          "solution": false
        },
        "id": "6yknNIkiYBho"
      },
      "outputs": [],
      "source": [
        "\"\"\"Check that method returns the correct output for several inputs\"\"\"\n",
        "\n",
        "# mse = 0.39\n",
        "data = positions_n; true=positions;\n",
        "x0=10.; dx=1.\n",
        "g,h = g_h_tuner(true, data, x0, dx)\n",
        "np.testing.assert_allclose([g,h], [0.94, 0.04], rtol=0.01)"
      ]
    },
    {
      "cell_type": "code",
      "execution_count": null,
      "metadata": {
        "nbgrader": {
          "grade": true,
          "grade_id": "cell-16eef56lkjlkjb49",
          "locked": true,
          "points": 5,
          "schema_version": 1,
          "solution": false
        },
        "id": "554AWH7nYBho"
      },
      "outputs": [],
      "source": [
        "#mse = 0.30\n",
        "x0=1.; dx=5.\n",
        "g,h = g_h_tuner(true, data, x0, dx)\n",
        "np.testing.assert_allclose([g,h], [0.88, 0.08], rtol=0.01)\n",
        "\n",
        "### BEGIN HIDDEN TESTS\n",
        "#mse = 0.0\n",
        "x0=0.; dx=10.\n",
        "g,h = g_h_tuner(true, data, x0, dx)\n",
        "np.testing.assert_allclose([g,h], [0., 0.], rtol=0.01)\n",
        "### END HIDDEN TESTS"
      ]
    },
    {
      "cell_type": "markdown",
      "metadata": {
        "id": "i8DiDiLZYBho"
      },
      "source": [
        "You can modify the initial conditions above to reduce the mse to 0.\n",
        "\n",
        "What do you think these conditions would be? What would the associated `g` and `h` values be?"
      ]
    },
    {
      "cell_type": "markdown",
      "metadata": {
        "id": "39UaanYKYBho"
      },
      "source": [
        "## Exercise: Heatmap\n",
        "\n",
        "Create a function that produces a heatmap showing how MSE varies with different g and h parameters"
      ]
    },
    {
      "cell_type": "code",
      "execution_count": null,
      "metadata": {
        "id": "YgV1wXgGYBho"
      },
      "outputs": [],
      "source": [
        "def g_h_mse_heatmap(truth, data, x0, dx, g_range=(0,1), h_range=(0,1), resolution=11):\n",
        "    '''\n",
        "    Creates a heatmap showing how MSE varies with different g and h values.\n",
        "\n",
        "    Input:\n",
        "    - truth: ground truth data\n",
        "    - data: measurement data\n",
        "    - x0, dx: initial state\n",
        "    - g_range, h_range: parameter ranges to explore\n",
        "    - resolution: number of points to sample in each dimension\n",
        "\n",
        "    Output:\n",
        "    - Heatmap visualization\n",
        "    - The g, h values that produce minimum MSE\n",
        "    '''\n",
        "    # Student implementation here\n",
        "    pass"
      ]
    },
    {
      "cell_type": "markdown",
      "metadata": {
        "id": "cWTMRulEYBho"
      },
      "source": [
        "## Exercise: Adaptive g-h Filter\n",
        "Implement an adaptive g-h filter where g and h values change based on the residual (difference between prediction and measurement):"
      ]
    },
    {
      "cell_type": "code",
      "execution_count": null,
      "metadata": {
        "id": "a_SYeMNkYBho"
      },
      "outputs": [],
      "source": [
        "def adaptive_g_h_filter(data, x0, dx, g_base, h_base, dt=1., adaptation_rate=0.1):\n",
        "    '''\n",
        "    Implements an adaptive g-h filter where g and h values\n",
        "    adapt based on the magnitude of the residual.\n",
        "\n",
        "    When residuals are large, increase g to follow measurements more closely.\n",
        "    When residuals are small, decrease g to smooth more aggressively.\n",
        "    '''\n",
        "    # Student implementation here\n",
        "    pass"
      ]
    },
    {
      "cell_type": "code",
      "execution_count": null,
      "metadata": {
        "id": "vX3WnuIGYBho"
      },
      "outputs": [],
      "source": [
        "# Test adaptive filter with synthetic data\n",
        "x0=0; dx=1; count=30; noise_factor=1\n",
        "rng = np.random.RandomState(42)\n",
        "measurements = gen_data(x0,dx, count, noise_factor)\n",
        "# adaptive_estimates = adaptive_g_h_filter(data=measurements, x0=0., dx=1., g_base=0.5, h_base=0.5, dt=1., adaptation_rate=0.1)\n",
        "# plot_g_h_results(measurements, adaptive_estimates)\n"
      ]
    },
    {
      "cell_type": "markdown",
      "metadata": {
        "id": "CowzqdgUYBhq"
      },
      "source": [
        "## Part D. Reflection  \n",
        "\n",
        "Answer in a Markdown cell (3–5 sentences):  \n",
        "- What happens when g is too large? Too small?  \n",
        "- What happens when h is too large? Too small?  \n",
        "- In what situations might an α–β filter be *“good enough”*?  \n",
        "- When would you need a more powerful approach (like the Kalman filter)?  "
      ]
    },
    {
      "cell_type": "markdown",
      "metadata": {
        "id": "FkRrXlvFYBhq"
      },
      "source": [
        "## Your answer here"
      ]
    },
    {
      "cell_type": "markdown",
      "metadata": {
        "id": "Py8lpCoVYBhq"
      },
      "source": [
        "## Application\n"
      ]
    },
    {
      "cell_type": "markdown",
      "metadata": {
        "id": "xeDO5OjUYBhq"
      },
      "source": [
        "Code below generates data for a ball's position as captured by a camera.\n",
        "\n",
        "It is based on a talk the book's author gave in Berlin."
      ]
    },
    {
      "cell_type": "code",
      "execution_count": null,
      "metadata": {
        "id": "_7ysyrNeYBhq"
      },
      "outputs": [],
      "source": [
        "def gen_ball_vision_data(sp=0.1):\n",
        "    '''\n",
        "    Simulate 1 sec long ball drop captured at 100 Hz from a camera\n",
        "    In:\n",
        "        'sp': Sigma for position noise\n",
        "    Out:\n",
        "        'Xr', 'Yr', 'Zr': True (un-noisy) XYZ coordinates of the ball.\n",
        "        'Xm', 'Ym', 'Zm': Measured (noisy) XYZ coordinates of the ball.\n",
        "    '''\n",
        "\n",
        "    rng = np.random.RandomState(42)\n",
        "\n",
        "    Hz = 100.0 # Frequency of Vision System\n",
        "    dt = 1.0/Hz\n",
        "    T = 1.0 # s measuremnt time\n",
        "    m = int(T/dt) # number of measurements\n",
        "\n",
        "    px= 0.0 # x Position Start\n",
        "    py= 0.0 # y Position Start\n",
        "    pz= 1.0 # z Position Start\n",
        "\n",
        "    vx = 10.0 # m/s Velocity at the beginning\n",
        "    vy = 0.0 # m/s Velocity\n",
        "    vz = 0.0 # m/s Velocity\n",
        "\n",
        "    c = 0.1 # Drag Resistance Coefficient\n",
        "    d = 0.9 # Damping\n",
        "\n",
        "    Xr=[]\n",
        "    Yr=[]\n",
        "    Zr=[]\n",
        "    for i in range(int(m)):\n",
        "        accx = -c*vx**2  # Drag Resistance\n",
        "\n",
        "        vx += accx*dt\n",
        "        px += vx*dt\n",
        "\n",
        "        accz = -9.806 + c*vz**2 # Gravitation + Drag\n",
        "        vz += accz*dt\n",
        "        pz += vz*dt\n",
        "\n",
        "        if pz<0.01:\n",
        "            vz=-vz*d\n",
        "            pz+=0.02\n",
        "        if vx<0.1:\n",
        "            accx=0.0\n",
        "            accz=0.0\n",
        "\n",
        "        Xr.append(px)\n",
        "        Yr.append(py)\n",
        "        Zr.append(pz)\n",
        "\n",
        "    #arrayify\n",
        "    Xr = np.asarray(Xr)\n",
        "    Yr = np.asarray(Yr)\n",
        "    Zr = np.asarray(Zr)\n",
        "    #Add noise\n",
        "    Xm = Xr + sp * (rng.randn(m))\n",
        "    Ym = Yr + sp * (rng.randn(m))\n",
        "    Zm = Zr + sp * (rng.randn(m))\n",
        "\n",
        "    return Xr, Yr, Zr, Xm, Ym, Zm"
      ]
    },
    {
      "cell_type": "code",
      "execution_count": null,
      "metadata": {
        "id": "fAnd9p91YBhq"
      },
      "outputs": [],
      "source": [
        "Xr, Yr, Zr, Xm, Ym, Zm = gen_ball_vision_data(0.2)\n"
      ]
    },
    {
      "cell_type": "markdown",
      "metadata": {
        "id": "bD59g8VfYBhq"
      },
      "source": [
        "Plot the data:"
      ]
    },
    {
      "cell_type": "code",
      "execution_count": null,
      "metadata": {
        "id": "nkpAMQatYBhq"
      },
      "outputs": [],
      "source": [
        "import matplotlib.pyplot as plt\n",
        "from mpl_toolkits.mplot3d import Axes3D\n",
        "\n",
        "fig = plt.figure(figsize=(12,6))\n",
        "ax = fig.add_subplot(111, projection='3d')\n",
        "ax.scatter(Xm, Ym, Zm)\n",
        "ax.scatter(Xr, Yr, Zr)\n",
        "\n",
        "ax.set_xlabel('X')\n",
        "ax.set_ylabel('Y')\n",
        "ax.set_zlabel('Z')\n",
        "plt.title('Ball Trajectory observed from Computer Vision System (with Noise)')\n",
        "\n",
        "#ax.w_xaxis.set_pane_color((1.0, 1.0, 1.0, 1.0))\n",
        "\n",
        "# Axis equal\n",
        "max_range = np.array([Xm.max()-Xm.min(), Ym.max()-Ym.min(), Zm.max()-Zm.min()]).max() / 3.0\n",
        "mean_x = Xm.mean()\n",
        "mean_y = Ym.mean()\n",
        "mean_z = Zm.mean()\n",
        "ax.set_xlim(mean_x - max_range, mean_x + max_range)\n",
        "ax.set_ylim(mean_y - max_range, mean_y + max_range)\n",
        "ax.set_zlim(mean_z - max_range, mean_z + max_range)\n",
        "# plt.savefig('BallTrajectory-Computervision.png', dpi=150, bbox_inches='tight')"
      ]
    },
    {
      "cell_type": "markdown",
      "metadata": {
        "id": "v53oNIPIYBhq"
      },
      "source": [
        "Experiment below and see if you can figure out `g` and `h` values that can improve over the measurements.\n",
        "\n",
        "Use the `tuner()` and `plot_g_h_results()` in your work.\n",
        "\n",
        "Enter your comments in the cell below that describes your choice of `g` and `h` and your reasoning."
      ]
    },
    {
      "cell_type": "code",
      "execution_count": null,
      "metadata": {
        "nbgrader": {
          "grade": true,
          "grade_id": "cell-bf8d980ebbbbf60c",
          "locked": false,
          "points": 5,
          "schema_version": 1,
          "solution": true
        },
        "id": "gcYw2QxEYBhq"
      },
      "outputs": [],
      "source": []
    },
    {
      "cell_type": "code",
      "execution_count": null,
      "metadata": {
        "id": "2ysRebXIYBhq"
      },
      "outputs": [],
      "source": [
        "#test your code here\n"
      ]
    },
    {
      "cell_type": "code",
      "execution_count": null,
      "metadata": {
        "id": "Iv9_s4umYBhq"
      },
      "outputs": [],
      "source": [
        "#test your code here\n"
      ]
    },
    {
      "cell_type": "code",
      "execution_count": null,
      "metadata": {
        "id": "ugiWMhVWYBhq"
      },
      "outputs": [],
      "source": []
    },
    {
      "cell_type": "markdown",
      "metadata": {
        "id": "zxDmWF7BYBhq"
      },
      "source": [
        " **Submission checklist:**  \n",
        "- [ ] All code cells run without errors.  \n",
        "- [ ] MSE function is implemented and vectorized.  \n",
        "- [ ] Plots are included for different (g, h) values.  \n",
        "- [ ] Heatmap for (g, h)\n",
        "- [ ] Adaptive filter\n",
        "- [ ] Written reflection is complete.  "
      ]
    }
  ],
  "metadata": {
    "celltoolbar": "Create Assignment",
    "kernelspec": {
      "display_name": "Python 3",
      "language": "python",
      "name": "python3"
    },
    "language_info": {
      "codemirror_mode": {
        "name": "ipython",
        "version": 3
      },
      "file_extension": ".py",
      "mimetype": "text/x-python",
      "name": "python",
      "nbconvert_exporter": "python",
      "pygments_lexer": "ipython3",
      "version": "3.6.0"
    },
    "colab": {
      "provenance": []
    }
  },
  "nbformat": 4,
  "nbformat_minor": 0
}