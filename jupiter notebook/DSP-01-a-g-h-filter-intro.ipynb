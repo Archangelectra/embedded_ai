{
 "cells": [
  {
   "cell_type": "markdown",
   "metadata": {
    "id": "KdWKTbuZbkeY"
   },
   "source": [
    "[Table of Contents](http://nbviewer.ipython.org/github/rlabbe/Kalman-and-Bayesian-Filters-in-Python/blob/master/table_of_contents.ipynb)"
   ]
  },
  {
   "cell_type": "markdown",
   "metadata": {
    "id": "Fokg-viObkeZ"
   },
   "source": [
    "# Intro\n",
    "\n",
    "[*Intro to tracking slides*](https://docs.google.com/presentation/d/1yCOw8qApO_4FTbd-7CxQ23jfhIYb9FrJBoB84Pp1C8Q/edit?usp=sharing)\n"
   ]
  },
  {
   "cell_type": "markdown",
   "metadata": {
    "id": "jon6HeNpbkeZ"
   },
   "source": [
    "Kalman and Bayesian Filters in Python <br>\n",
    "https://github.com/rlabbe\n",
    "\n",
    "Open source book (Creative Commons 4.0) <br> by Rogger Labber\n",
    "\n",
    "\n",
    "Silicon Valley engineer from Clarkson University (NY)"
   ]
  },
  {
   "cell_type": "markdown",
   "metadata": {
    "id": "6IrukdtLbkeZ"
   },
   "source": [
    "Based on Mr. Labbe's online profile:\n",
    "\n",
    "- Lead software developer for augmented reality applications"
   ]
  },
  {
   "cell_type": "markdown",
   "metadata": {
    "id": "T4pr8MrvbkeZ"
   },
   "source": [
    "- Designer and sole software engineer for an Augmented Reality Binocular System(ARBS) for the Air Force."
   ]
  },
  {
   "cell_type": "markdown",
   "metadata": {
    "id": "0_gABxU3bkeZ"
   },
   "source": [
    "- Lead developer on a multinocular computer vision system which tracks all movements of baseball players and the ball during a game."
   ]
  },
  {
   "cell_type": "markdown",
   "metadata": {
    "id": "o9ggY2VMbkea"
   },
   "source": [
    "- Upgraded and fielded a paper Band Inspection System for Philip Morris, which uses machine vision to detect defects in paper."
   ]
  },
  {
   "cell_type": "markdown",
   "metadata": {
    "id": "1KnoXU--bkea"
   },
   "source": [
    "- Sole inventor and developer of\n",
    "    - Mission Analysis and Review System (MARS);\n",
    "    - Digital Flight Planning System (DFPS), a GIS product for military flight planning"
   ]
  },
  {
   "cell_type": "markdown",
   "metadata": {
    "id": "xJEpzOuubkea"
   },
   "source": [
    "- Many other software development with GPS and INS processing"
   ]
  },
  {
   "cell_type": "markdown",
   "metadata": {
    "id": "vCz5D0JHbkea"
   },
   "source": [
    "Thanks for all your work on publishing your introductory text on Kalman Filtering, as well as the Python Kalman Filtering libraries. We’ve been using it internally to teach some key state estimation concepts to folks and it’s been a huge help.\n",
    "- Sam Rodkey,\n",
    "Lead Propulsion Engineer, SpaceX"
   ]
  },
  {
   "cell_type": "markdown",
   "metadata": {
    "id": "rp9LFwLxbkeb"
   },
   "source": [
    "# The g-h Filter\n",
    "## ($\\alpha - \\beta$ Filter)"
   ]
  },
  {
   "cell_type": "code",
   "execution_count": 1,
   "metadata": {
    "colab": {
     "base_uri": "https://localhost:8080/"
    },
    "executionInfo": {
     "elapsed": 50176,
     "status": "ok",
     "timestamp": 1757521332616,
     "user": {
      "displayName": "Mehmet Ergezer",
      "userId": "09071058300265774123"
     },
     "user_tz": 240
    },
    "id": "Fcm23Tvebkeb",
    "outputId": "c3c622f2-d9f3-4391-864f-5abd46bb8049"
   },
   "outputs": [
    {
     "name": "stdout",
     "output_type": "stream",
     "text": [
      "Cloning into 'Kalman-and-Bayesian-Filters-in-Python'...\n",
      "remote: Enumerating objects: 7036, done.\u001b[K\n",
      "remote: Counting objects: 100% (52/52), done.\u001b[K\n",
      "remote: Compressing objects: 100% (27/27), done.\u001b[K\n",
      "remote: Total 7036 (delta 35), reused 25 (delta 25), pack-reused 6984 (from 3)\u001b[K\n",
      "Receiving objects: 100% (7036/7036), 585.21 MiB | 23.94 MiB/s, done.\n",
      "Resolving deltas: 100% (3853/3853), done.\n",
      "/home/evelyn/vs-code-workspace/embedded_ai/jupiter notebook/Kalman-and-Bayesian-Filters-in-Python\n",
      "Requirement already satisfied: filterpy in /home/evelyn/vs-code-workspace/embedded_ai/env/lib/python3.13/site-packages (from -r requirements.txt (line 1)) (1.4.5)\n",
      "Requirement already satisfied: jupyter in /home/evelyn/vs-code-workspace/embedded_ai/env/lib/python3.13/site-packages (from -r requirements.txt (line 2)) (1.1.1)\n",
      "Requirement already satisfied: notebook in /home/evelyn/vs-code-workspace/embedded_ai/env/lib/python3.13/site-packages (from -r requirements.txt (line 3)) (7.4.5)\n",
      "Requirement already satisfied: sympy in /home/evelyn/vs-code-workspace/embedded_ai/env/lib/python3.13/site-packages (from -r requirements.txt (line 4)) (1.14.0)\n",
      "Requirement already satisfied: numpy in /home/evelyn/vs-code-workspace/embedded_ai/env/lib/python3.13/site-packages (from -r requirements.txt (line 5)) (2.2.6)\n",
      "Requirement already satisfied: scipy in /home/evelyn/vs-code-workspace/embedded_ai/env/lib/python3.13/site-packages (from -r requirements.txt (line 6)) (1.16.1)\n",
      "Requirement already satisfied: matplotlib in /home/evelyn/vs-code-workspace/embedded_ai/env/lib/python3.13/site-packages (from -r requirements.txt (line 7)) (3.10.6)\n",
      "Requirement already satisfied: jupyter-console in /home/evelyn/vs-code-workspace/embedded_ai/env/lib/python3.13/site-packages (from jupyter->-r requirements.txt (line 2)) (6.6.3)\n",
      "Requirement already satisfied: nbconvert in /home/evelyn/vs-code-workspace/embedded_ai/env/lib/python3.13/site-packages (from jupyter->-r requirements.txt (line 2)) (7.16.6)\n",
      "Requirement already satisfied: ipykernel in /home/evelyn/vs-code-workspace/embedded_ai/env/lib/python3.13/site-packages (from jupyter->-r requirements.txt (line 2)) (6.30.1)\n",
      "Requirement already satisfied: ipywidgets in /home/evelyn/vs-code-workspace/embedded_ai/env/lib/python3.13/site-packages (from jupyter->-r requirements.txt (line 2)) (8.1.7)\n",
      "Requirement already satisfied: jupyterlab in /home/evelyn/vs-code-workspace/embedded_ai/env/lib/python3.13/site-packages (from jupyter->-r requirements.txt (line 2)) (4.4.7)\n",
      "Requirement already satisfied: jupyter-server<3,>=2.4.0 in /home/evelyn/vs-code-workspace/embedded_ai/env/lib/python3.13/site-packages (from notebook->-r requirements.txt (line 3)) (2.17.0)\n",
      "Requirement already satisfied: jupyterlab-server<3,>=2.27.1 in /home/evelyn/vs-code-workspace/embedded_ai/env/lib/python3.13/site-packages (from notebook->-r requirements.txt (line 3)) (2.27.3)\n",
      "Requirement already satisfied: notebook-shim<0.3,>=0.2 in /home/evelyn/vs-code-workspace/embedded_ai/env/lib/python3.13/site-packages (from notebook->-r requirements.txt (line 3)) (0.2.4)\n",
      "Requirement already satisfied: tornado>=6.2.0 in /home/evelyn/vs-code-workspace/embedded_ai/env/lib/python3.13/site-packages (from notebook->-r requirements.txt (line 3)) (6.5.2)\n",
      "Requirement already satisfied: anyio>=3.1.0 in /home/evelyn/vs-code-workspace/embedded_ai/env/lib/python3.13/site-packages (from jupyter-server<3,>=2.4.0->notebook->-r requirements.txt (line 3)) (4.10.0)\n",
      "Requirement already satisfied: argon2-cffi>=21.1 in /home/evelyn/vs-code-workspace/embedded_ai/env/lib/python3.13/site-packages (from jupyter-server<3,>=2.4.0->notebook->-r requirements.txt (line 3)) (25.1.0)\n",
      "Requirement already satisfied: jinja2>=3.0.3 in /home/evelyn/vs-code-workspace/embedded_ai/env/lib/python3.13/site-packages (from jupyter-server<3,>=2.4.0->notebook->-r requirements.txt (line 3)) (3.1.6)\n",
      "Requirement already satisfied: jupyter-client>=7.4.4 in /home/evelyn/vs-code-workspace/embedded_ai/env/lib/python3.13/site-packages (from jupyter-server<3,>=2.4.0->notebook->-r requirements.txt (line 3)) (8.6.3)\n",
      "Requirement already satisfied: jupyter-core!=5.0.*,>=4.12 in /home/evelyn/vs-code-workspace/embedded_ai/env/lib/python3.13/site-packages (from jupyter-server<3,>=2.4.0->notebook->-r requirements.txt (line 3)) (5.8.1)\n",
      "Requirement already satisfied: jupyter-events>=0.11.0 in /home/evelyn/vs-code-workspace/embedded_ai/env/lib/python3.13/site-packages (from jupyter-server<3,>=2.4.0->notebook->-r requirements.txt (line 3)) (0.12.0)\n",
      "Requirement already satisfied: jupyter-server-terminals>=0.4.4 in /home/evelyn/vs-code-workspace/embedded_ai/env/lib/python3.13/site-packages (from jupyter-server<3,>=2.4.0->notebook->-r requirements.txt (line 3)) (0.5.3)\n",
      "Requirement already satisfied: nbformat>=5.3.0 in /home/evelyn/vs-code-workspace/embedded_ai/env/lib/python3.13/site-packages (from jupyter-server<3,>=2.4.0->notebook->-r requirements.txt (line 3)) (5.10.4)\n",
      "Requirement already satisfied: packaging>=22.0 in /home/evelyn/vs-code-workspace/embedded_ai/env/lib/python3.13/site-packages (from jupyter-server<3,>=2.4.0->notebook->-r requirements.txt (line 3)) (25.0)\n",
      "Requirement already satisfied: prometheus-client>=0.9 in /home/evelyn/vs-code-workspace/embedded_ai/env/lib/python3.13/site-packages (from jupyter-server<3,>=2.4.0->notebook->-r requirements.txt (line 3)) (0.22.1)\n",
      "Requirement already satisfied: pyzmq>=24 in /home/evelyn/vs-code-workspace/embedded_ai/env/lib/python3.13/site-packages (from jupyter-server<3,>=2.4.0->notebook->-r requirements.txt (line 3)) (27.0.2)\n",
      "Requirement already satisfied: send2trash>=1.8.2 in /home/evelyn/vs-code-workspace/embedded_ai/env/lib/python3.13/site-packages (from jupyter-server<3,>=2.4.0->notebook->-r requirements.txt (line 3)) (1.8.3)\n",
      "Requirement already satisfied: terminado>=0.8.3 in /home/evelyn/vs-code-workspace/embedded_ai/env/lib/python3.13/site-packages (from jupyter-server<3,>=2.4.0->notebook->-r requirements.txt (line 3)) (0.18.1)\n",
      "Requirement already satisfied: traitlets>=5.6.0 in /home/evelyn/vs-code-workspace/embedded_ai/env/lib/python3.13/site-packages (from jupyter-server<3,>=2.4.0->notebook->-r requirements.txt (line 3)) (5.14.3)\n",
      "Requirement already satisfied: websocket-client>=1.7 in /home/evelyn/vs-code-workspace/embedded_ai/env/lib/python3.13/site-packages (from jupyter-server<3,>=2.4.0->notebook->-r requirements.txt (line 3)) (1.8.0)\n",
      "Requirement already satisfied: async-lru>=1.0.0 in /home/evelyn/vs-code-workspace/embedded_ai/env/lib/python3.13/site-packages (from jupyterlab->jupyter->-r requirements.txt (line 2)) (2.0.5)\n",
      "Requirement already satisfied: httpx<1,>=0.25.0 in /home/evelyn/vs-code-workspace/embedded_ai/env/lib/python3.13/site-packages (from jupyterlab->jupyter->-r requirements.txt (line 2)) (0.28.1)\n",
      "Requirement already satisfied: jupyter-lsp>=2.0.0 in /home/evelyn/vs-code-workspace/embedded_ai/env/lib/python3.13/site-packages (from jupyterlab->jupyter->-r requirements.txt (line 2)) (2.3.0)\n",
      "Requirement already satisfied: setuptools>=41.1.0 in /home/evelyn/vs-code-workspace/embedded_ai/env/lib/python3.13/site-packages (from jupyterlab->jupyter->-r requirements.txt (line 2)) (80.9.0)\n",
      "Requirement already satisfied: certifi in /home/evelyn/vs-code-workspace/embedded_ai/env/lib/python3.13/site-packages (from httpx<1,>=0.25.0->jupyterlab->jupyter->-r requirements.txt (line 2)) (2025.8.3)\n",
      "Requirement already satisfied: httpcore==1.* in /home/evelyn/vs-code-workspace/embedded_ai/env/lib/python3.13/site-packages (from httpx<1,>=0.25.0->jupyterlab->jupyter->-r requirements.txt (line 2)) (1.0.9)\n",
      "Requirement already satisfied: idna in /home/evelyn/vs-code-workspace/embedded_ai/env/lib/python3.13/site-packages (from httpx<1,>=0.25.0->jupyterlab->jupyter->-r requirements.txt (line 2)) (3.10)\n",
      "Requirement already satisfied: h11>=0.16 in /home/evelyn/vs-code-workspace/embedded_ai/env/lib/python3.13/site-packages (from httpcore==1.*->httpx<1,>=0.25.0->jupyterlab->jupyter->-r requirements.txt (line 2)) (0.16.0)\n",
      "Requirement already satisfied: babel>=2.10 in /home/evelyn/vs-code-workspace/embedded_ai/env/lib/python3.13/site-packages (from jupyterlab-server<3,>=2.27.1->notebook->-r requirements.txt (line 3)) (2.17.0)\n",
      "Requirement already satisfied: json5>=0.9.0 in /home/evelyn/vs-code-workspace/embedded_ai/env/lib/python3.13/site-packages (from jupyterlab-server<3,>=2.27.1->notebook->-r requirements.txt (line 3)) (0.12.1)\n",
      "Requirement already satisfied: jsonschema>=4.18.0 in /home/evelyn/vs-code-workspace/embedded_ai/env/lib/python3.13/site-packages (from jupyterlab-server<3,>=2.27.1->notebook->-r requirements.txt (line 3)) (4.25.1)\n",
      "Requirement already satisfied: requests>=2.31 in /home/evelyn/vs-code-workspace/embedded_ai/env/lib/python3.13/site-packages (from jupyterlab-server<3,>=2.27.1->notebook->-r requirements.txt (line 3)) (2.32.5)\n",
      "Requirement already satisfied: mpmath<1.4,>=1.1.0 in /home/evelyn/vs-code-workspace/embedded_ai/env/lib/python3.13/site-packages (from sympy->-r requirements.txt (line 4)) (1.3.0)\n",
      "Requirement already satisfied: contourpy>=1.0.1 in /home/evelyn/vs-code-workspace/embedded_ai/env/lib/python3.13/site-packages (from matplotlib->-r requirements.txt (line 7)) (1.3.3)\n",
      "Requirement already satisfied: cycler>=0.10 in /home/evelyn/vs-code-workspace/embedded_ai/env/lib/python3.13/site-packages (from matplotlib->-r requirements.txt (line 7)) (0.12.1)\n",
      "Requirement already satisfied: fonttools>=4.22.0 in /home/evelyn/vs-code-workspace/embedded_ai/env/lib/python3.13/site-packages (from matplotlib->-r requirements.txt (line 7)) (4.59.2)\n",
      "Requirement already satisfied: kiwisolver>=1.3.1 in /home/evelyn/vs-code-workspace/embedded_ai/env/lib/python3.13/site-packages (from matplotlib->-r requirements.txt (line 7)) (1.4.9)\n",
      "Requirement already satisfied: pillow>=8 in /home/evelyn/vs-code-workspace/embedded_ai/env/lib/python3.13/site-packages (from matplotlib->-r requirements.txt (line 7)) (11.3.0)\n",
      "Requirement already satisfied: pyparsing>=2.3.1 in /home/evelyn/vs-code-workspace/embedded_ai/env/lib/python3.13/site-packages (from matplotlib->-r requirements.txt (line 7)) (3.2.3)\n",
      "Requirement already satisfied: python-dateutil>=2.7 in /home/evelyn/vs-code-workspace/embedded_ai/env/lib/python3.13/site-packages (from matplotlib->-r requirements.txt (line 7)) (2.9.0.post0)\n",
      "Requirement already satisfied: sniffio>=1.1 in /home/evelyn/vs-code-workspace/embedded_ai/env/lib/python3.13/site-packages (from anyio>=3.1.0->jupyter-server<3,>=2.4.0->notebook->-r requirements.txt (line 3)) (1.3.1)\n",
      "Requirement already satisfied: argon2-cffi-bindings in /home/evelyn/vs-code-workspace/embedded_ai/env/lib/python3.13/site-packages (from argon2-cffi>=21.1->jupyter-server<3,>=2.4.0->notebook->-r requirements.txt (line 3)) (25.1.0)\n",
      "Requirement already satisfied: comm>=0.1.1 in /home/evelyn/vs-code-workspace/embedded_ai/env/lib/python3.13/site-packages (from ipykernel->jupyter->-r requirements.txt (line 2)) (0.2.3)\n",
      "Requirement already satisfied: debugpy>=1.6.5 in /home/evelyn/vs-code-workspace/embedded_ai/env/lib/python3.13/site-packages (from ipykernel->jupyter->-r requirements.txt (line 2)) (1.8.16)\n",
      "Requirement already satisfied: ipython>=7.23.1 in /home/evelyn/vs-code-workspace/embedded_ai/env/lib/python3.13/site-packages (from ipykernel->jupyter->-r requirements.txt (line 2)) (9.5.0)\n",
      "Requirement already satisfied: matplotlib-inline>=0.1 in /home/evelyn/vs-code-workspace/embedded_ai/env/lib/python3.13/site-packages (from ipykernel->jupyter->-r requirements.txt (line 2)) (0.1.7)\n",
      "Requirement already satisfied: nest-asyncio>=1.4 in /home/evelyn/vs-code-workspace/embedded_ai/env/lib/python3.13/site-packages (from ipykernel->jupyter->-r requirements.txt (line 2)) (1.6.0)\n",
      "Requirement already satisfied: psutil>=5.7 in /home/evelyn/vs-code-workspace/embedded_ai/env/lib/python3.13/site-packages (from ipykernel->jupyter->-r requirements.txt (line 2)) (7.0.0)\n",
      "Requirement already satisfied: decorator in /home/evelyn/vs-code-workspace/embedded_ai/env/lib/python3.13/site-packages (from ipython>=7.23.1->ipykernel->jupyter->-r requirements.txt (line 2)) (5.2.1)\n",
      "Requirement already satisfied: ipython-pygments-lexers in /home/evelyn/vs-code-workspace/embedded_ai/env/lib/python3.13/site-packages (from ipython>=7.23.1->ipykernel->jupyter->-r requirements.txt (line 2)) (1.1.1)\n",
      "Requirement already satisfied: jedi>=0.16 in /home/evelyn/vs-code-workspace/embedded_ai/env/lib/python3.13/site-packages (from ipython>=7.23.1->ipykernel->jupyter->-r requirements.txt (line 2)) (0.19.2)\n",
      "Requirement already satisfied: pexpect>4.3 in /home/evelyn/vs-code-workspace/embedded_ai/env/lib/python3.13/site-packages (from ipython>=7.23.1->ipykernel->jupyter->-r requirements.txt (line 2)) (4.9.0)\n",
      "Requirement already satisfied: prompt_toolkit<3.1.0,>=3.0.41 in /home/evelyn/vs-code-workspace/embedded_ai/env/lib/python3.13/site-packages (from ipython>=7.23.1->ipykernel->jupyter->-r requirements.txt (line 2)) (3.0.52)\n",
      "Requirement already satisfied: pygments>=2.4.0 in /home/evelyn/vs-code-workspace/embedded_ai/env/lib/python3.13/site-packages (from ipython>=7.23.1->ipykernel->jupyter->-r requirements.txt (line 2)) (2.19.2)\n",
      "Requirement already satisfied: stack_data in /home/evelyn/vs-code-workspace/embedded_ai/env/lib/python3.13/site-packages (from ipython>=7.23.1->ipykernel->jupyter->-r requirements.txt (line 2)) (0.6.3)\n",
      "Requirement already satisfied: wcwidth in /home/evelyn/vs-code-workspace/embedded_ai/env/lib/python3.13/site-packages (from prompt_toolkit<3.1.0,>=3.0.41->ipython>=7.23.1->ipykernel->jupyter->-r requirements.txt (line 2)) (0.2.13)\n",
      "Requirement already satisfied: parso<0.9.0,>=0.8.4 in /home/evelyn/vs-code-workspace/embedded_ai/env/lib/python3.13/site-packages (from jedi>=0.16->ipython>=7.23.1->ipykernel->jupyter->-r requirements.txt (line 2)) (0.8.5)\n",
      "Requirement already satisfied: MarkupSafe>=2.0 in /home/evelyn/vs-code-workspace/embedded_ai/env/lib/python3.13/site-packages (from jinja2>=3.0.3->jupyter-server<3,>=2.4.0->notebook->-r requirements.txt (line 3)) (3.0.2)\n",
      "Requirement already satisfied: attrs>=22.2.0 in /home/evelyn/vs-code-workspace/embedded_ai/env/lib/python3.13/site-packages (from jsonschema>=4.18.0->jupyterlab-server<3,>=2.27.1->notebook->-r requirements.txt (line 3)) (25.3.0)\n",
      "Requirement already satisfied: jsonschema-specifications>=2023.03.6 in /home/evelyn/vs-code-workspace/embedded_ai/env/lib/python3.13/site-packages (from jsonschema>=4.18.0->jupyterlab-server<3,>=2.27.1->notebook->-r requirements.txt (line 3)) (2025.9.1)\n",
      "Requirement already satisfied: referencing>=0.28.4 in /home/evelyn/vs-code-workspace/embedded_ai/env/lib/python3.13/site-packages (from jsonschema>=4.18.0->jupyterlab-server<3,>=2.27.1->notebook->-r requirements.txt (line 3)) (0.36.2)\n",
      "Requirement already satisfied: rpds-py>=0.7.1 in /home/evelyn/vs-code-workspace/embedded_ai/env/lib/python3.13/site-packages (from jsonschema>=4.18.0->jupyterlab-server<3,>=2.27.1->notebook->-r requirements.txt (line 3)) (0.27.1)\n",
      "Requirement already satisfied: platformdirs>=2.5 in /home/evelyn/vs-code-workspace/embedded_ai/env/lib/python3.13/site-packages (from jupyter-core!=5.0.*,>=4.12->jupyter-server<3,>=2.4.0->notebook->-r requirements.txt (line 3)) (4.4.0)\n",
      "Requirement already satisfied: python-json-logger>=2.0.4 in /home/evelyn/vs-code-workspace/embedded_ai/env/lib/python3.13/site-packages (from jupyter-events>=0.11.0->jupyter-server<3,>=2.4.0->notebook->-r requirements.txt (line 3)) (3.3.0)\n",
      "Requirement already satisfied: pyyaml>=5.3 in /home/evelyn/vs-code-workspace/embedded_ai/env/lib/python3.13/site-packages (from jupyter-events>=0.11.0->jupyter-server<3,>=2.4.0->notebook->-r requirements.txt (line 3)) (6.0.2)\n",
      "Requirement already satisfied: rfc3339-validator in /home/evelyn/vs-code-workspace/embedded_ai/env/lib/python3.13/site-packages (from jupyter-events>=0.11.0->jupyter-server<3,>=2.4.0->notebook->-r requirements.txt (line 3)) (0.1.4)\n",
      "Requirement already satisfied: rfc3986-validator>=0.1.1 in /home/evelyn/vs-code-workspace/embedded_ai/env/lib/python3.13/site-packages (from jupyter-events>=0.11.0->jupyter-server<3,>=2.4.0->notebook->-r requirements.txt (line 3)) (0.1.1)\n",
      "Requirement already satisfied: fqdn in /home/evelyn/vs-code-workspace/embedded_ai/env/lib/python3.13/site-packages (from jsonschema[format-nongpl]>=4.18.0->jupyter-events>=0.11.0->jupyter-server<3,>=2.4.0->notebook->-r requirements.txt (line 3)) (1.5.1)\n",
      "Requirement already satisfied: isoduration in /home/evelyn/vs-code-workspace/embedded_ai/env/lib/python3.13/site-packages (from jsonschema[format-nongpl]>=4.18.0->jupyter-events>=0.11.0->jupyter-server<3,>=2.4.0->notebook->-r requirements.txt (line 3)) (20.11.0)\n",
      "Requirement already satisfied: jsonpointer>1.13 in /home/evelyn/vs-code-workspace/embedded_ai/env/lib/python3.13/site-packages (from jsonschema[format-nongpl]>=4.18.0->jupyter-events>=0.11.0->jupyter-server<3,>=2.4.0->notebook->-r requirements.txt (line 3)) (3.0.0)\n",
      "Requirement already satisfied: rfc3987-syntax>=1.1.0 in /home/evelyn/vs-code-workspace/embedded_ai/env/lib/python3.13/site-packages (from jsonschema[format-nongpl]>=4.18.0->jupyter-events>=0.11.0->jupyter-server<3,>=2.4.0->notebook->-r requirements.txt (line 3)) (1.1.0)\n",
      "Requirement already satisfied: uri-template in /home/evelyn/vs-code-workspace/embedded_ai/env/lib/python3.13/site-packages (from jsonschema[format-nongpl]>=4.18.0->jupyter-events>=0.11.0->jupyter-server<3,>=2.4.0->notebook->-r requirements.txt (line 3)) (1.3.0)\n",
      "Requirement already satisfied: webcolors>=24.6.0 in /home/evelyn/vs-code-workspace/embedded_ai/env/lib/python3.13/site-packages (from jsonschema[format-nongpl]>=4.18.0->jupyter-events>=0.11.0->jupyter-server<3,>=2.4.0->notebook->-r requirements.txt (line 3)) (24.11.1)\n",
      "Requirement already satisfied: beautifulsoup4 in /home/evelyn/vs-code-workspace/embedded_ai/env/lib/python3.13/site-packages (from nbconvert->jupyter->-r requirements.txt (line 2)) (4.13.5)\n",
      "Requirement already satisfied: bleach!=5.0.0 in /home/evelyn/vs-code-workspace/embedded_ai/env/lib/python3.13/site-packages (from bleach[css]!=5.0.0->nbconvert->jupyter->-r requirements.txt (line 2)) (6.2.0)\n",
      "Requirement already satisfied: defusedxml in /home/evelyn/vs-code-workspace/embedded_ai/env/lib/python3.13/site-packages (from nbconvert->jupyter->-r requirements.txt (line 2)) (0.7.1)\n",
      "Requirement already satisfied: jupyterlab-pygments in /home/evelyn/vs-code-workspace/embedded_ai/env/lib/python3.13/site-packages (from nbconvert->jupyter->-r requirements.txt (line 2)) (0.3.0)\n",
      "Requirement already satisfied: mistune<4,>=2.0.3 in /home/evelyn/vs-code-workspace/embedded_ai/env/lib/python3.13/site-packages (from nbconvert->jupyter->-r requirements.txt (line 2)) (3.1.4)\n",
      "Requirement already satisfied: nbclient>=0.5.0 in /home/evelyn/vs-code-workspace/embedded_ai/env/lib/python3.13/site-packages (from nbconvert->jupyter->-r requirements.txt (line 2)) (0.10.2)\n",
      "Requirement already satisfied: pandocfilters>=1.4.1 in /home/evelyn/vs-code-workspace/embedded_ai/env/lib/python3.13/site-packages (from nbconvert->jupyter->-r requirements.txt (line 2)) (1.5.1)\n",
      "Requirement already satisfied: webencodings in /home/evelyn/vs-code-workspace/embedded_ai/env/lib/python3.13/site-packages (from bleach!=5.0.0->bleach[css]!=5.0.0->nbconvert->jupyter->-r requirements.txt (line 2)) (0.5.1)\n",
      "Requirement already satisfied: tinycss2<1.5,>=1.1.0 in /home/evelyn/vs-code-workspace/embedded_ai/env/lib/python3.13/site-packages (from bleach[css]!=5.0.0->nbconvert->jupyter->-r requirements.txt (line 2)) (1.4.0)\n",
      "Requirement already satisfied: fastjsonschema>=2.15 in /home/evelyn/vs-code-workspace/embedded_ai/env/lib/python3.13/site-packages (from nbformat>=5.3.0->jupyter-server<3,>=2.4.0->notebook->-r requirements.txt (line 3)) (2.21.2)\n",
      "Requirement already satisfied: ptyprocess>=0.5 in /home/evelyn/vs-code-workspace/embedded_ai/env/lib/python3.13/site-packages (from pexpect>4.3->ipython>=7.23.1->ipykernel->jupyter->-r requirements.txt (line 2)) (0.7.0)\n",
      "Requirement already satisfied: six>=1.5 in /home/evelyn/vs-code-workspace/embedded_ai/env/lib/python3.13/site-packages (from python-dateutil>=2.7->matplotlib->-r requirements.txt (line 7)) (1.17.0)\n",
      "Requirement already satisfied: charset_normalizer<4,>=2 in /home/evelyn/vs-code-workspace/embedded_ai/env/lib/python3.13/site-packages (from requests>=2.31->jupyterlab-server<3,>=2.27.1->notebook->-r requirements.txt (line 3)) (3.4.3)\n",
      "Requirement already satisfied: urllib3<3,>=1.21.1 in /home/evelyn/vs-code-workspace/embedded_ai/env/lib/python3.13/site-packages (from requests>=2.31->jupyterlab-server<3,>=2.27.1->notebook->-r requirements.txt (line 3)) (2.5.0)\n",
      "Requirement already satisfied: lark>=1.2.2 in /home/evelyn/vs-code-workspace/embedded_ai/env/lib/python3.13/site-packages (from rfc3987-syntax>=1.1.0->jsonschema[format-nongpl]>=4.18.0->jupyter-events>=0.11.0->jupyter-server<3,>=2.4.0->notebook->-r requirements.txt (line 3)) (1.2.2)\n",
      "Requirement already satisfied: cffi>=1.0.1 in /home/evelyn/vs-code-workspace/embedded_ai/env/lib/python3.13/site-packages (from argon2-cffi-bindings->argon2-cffi>=21.1->jupyter-server<3,>=2.4.0->notebook->-r requirements.txt (line 3)) (2.0.0)\n",
      "Requirement already satisfied: pycparser in /home/evelyn/vs-code-workspace/embedded_ai/env/lib/python3.13/site-packages (from cffi>=1.0.1->argon2-cffi-bindings->argon2-cffi>=21.1->jupyter-server<3,>=2.4.0->notebook->-r requirements.txt (line 3)) (2.23)\n",
      "Requirement already satisfied: soupsieve>1.2 in /home/evelyn/vs-code-workspace/embedded_ai/env/lib/python3.13/site-packages (from beautifulsoup4->nbconvert->jupyter->-r requirements.txt (line 2)) (2.8)\n",
      "Requirement already satisfied: typing-extensions>=4.0.0 in /home/evelyn/vs-code-workspace/embedded_ai/env/lib/python3.13/site-packages (from beautifulsoup4->nbconvert->jupyter->-r requirements.txt (line 2)) (4.15.0)\n",
      "Requirement already satisfied: widgetsnbextension~=4.0.14 in /home/evelyn/vs-code-workspace/embedded_ai/env/lib/python3.13/site-packages (from ipywidgets->jupyter->-r requirements.txt (line 2)) (4.0.14)\n",
      "Requirement already satisfied: jupyterlab_widgets~=3.0.15 in /home/evelyn/vs-code-workspace/embedded_ai/env/lib/python3.13/site-packages (from ipywidgets->jupyter->-r requirements.txt (line 2)) (3.0.15)\n",
      "Requirement already satisfied: arrow>=0.15.0 in /home/evelyn/vs-code-workspace/embedded_ai/env/lib/python3.13/site-packages (from isoduration->jsonschema[format-nongpl]>=4.18.0->jupyter-events>=0.11.0->jupyter-server<3,>=2.4.0->notebook->-r requirements.txt (line 3)) (1.3.0)\n",
      "Requirement already satisfied: types-python-dateutil>=2.8.10 in /home/evelyn/vs-code-workspace/embedded_ai/env/lib/python3.13/site-packages (from arrow>=0.15.0->isoduration->jsonschema[format-nongpl]>=4.18.0->jupyter-events>=0.11.0->jupyter-server<3,>=2.4.0->notebook->-r requirements.txt (line 3)) (2.9.0.20250822)\n",
      "Requirement already satisfied: executing>=1.2.0 in /home/evelyn/vs-code-workspace/embedded_ai/env/lib/python3.13/site-packages (from stack_data->ipython>=7.23.1->ipykernel->jupyter->-r requirements.txt (line 2)) (2.2.1)\n",
      "Requirement already satisfied: asttokens>=2.1.0 in /home/evelyn/vs-code-workspace/embedded_ai/env/lib/python3.13/site-packages (from stack_data->ipython>=7.23.1->ipykernel->jupyter->-r requirements.txt (line 2)) (3.0.0)\n",
      "Requirement already satisfied: pure-eval in /home/evelyn/vs-code-workspace/embedded_ai/env/lib/python3.13/site-packages (from stack_data->ipython>=7.23.1->ipykernel->jupyter->-r requirements.txt (line 2)) (0.2.3)\n",
      "Finished setup!\n"
     ]
    }
   ],
   "source": [
    "# # Colab makeup\n",
    "\n",
    "# Clone the book repo\n",
    "!git clone https://github.com/rlabbe/Kalman-and-Bayesian-Filters-in-Python.git\n",
    "# Change into the repo directory\n",
    "%cd Kalman-and-Bayesian-Filters-in-Python\n",
    "# Install requirements (optional, but good to have)\n",
    "!pip install -r requirements.txt\n",
    "# Add repo to Python path\n",
    "import sys\n",
    "sys.path.append('/content/Kalman-and-Bayesian-Filters-in-Python')\n",
    "print(\"Finished setup!\")"
   ]
  },
  {
   "cell_type": "code",
   "execution_count": 2,
   "metadata": {
    "colab": {
     "base_uri": "https://localhost:8080/"
    },
    "executionInfo": {
     "elapsed": 50,
     "status": "ok",
     "timestamp": 1757521829888,
     "user": {
      "displayName": "Mehmet Ergezer",
      "userId": "09071058300265774123"
     },
     "user_tz": 240
    },
    "id": "oxSfzrYebkeb",
    "outputId": "68fce2f6-2972-46a3-f4a3-9480de096e5a"
   },
   "outputs": [
    {
     "name": "stderr",
     "output_type": "stream",
     "text": [
      "/home/evelyn/vs-code-workspace/embedded_ai/jupiter notebook/Kalman-and-Bayesian-Filters-in-Python/kf_book/book_plots.py:139: SyntaxWarning: invalid escape sequence '\\m'\n",
      "  ax.annotate('Measurement ($\\mathbf{z_k}$)',\n",
      "/home/evelyn/vs-code-workspace/embedded_ai/jupiter notebook/Kalman-and-Bayesian-Filters-in-Python/kf_book/book_plots.py:154: SyntaxWarning: invalid escape sequence '\\m'\n",
      "  ax.annotate('Initial\\nConditions ($\\mathbf{x_0}$)',\n",
      "/home/evelyn/vs-code-workspace/embedded_ai/jupiter notebook/Kalman-and-Bayesian-Filters-in-Python/kf_book/book_plots.py:161: SyntaxWarning: invalid escape sequence '\\m'\n",
      "  plt.text (4, 3.7,'State Estimate ($\\mathbf{\\hat{x}_k}$)',\n"
     ]
    },
    {
     "data": {
      "text/plain": [
       "{'__name__': '<run_path>',\n",
       " '__doc__': 'Copyright 2015 Roger R Labbe Jr.\\n\\n\\nCode supporting the book\\n\\nKalman and Bayesian Filters in Python\\nhttps://github.com/rlabbe/Kalman-and-Bayesian-Filters-in-Python\\n\\n\\nThis is licensed under an MIT license. See the LICENSE.txt file\\nfor more information.\\n',\n",
       " '__package__': '',\n",
       " '__loader__': None,\n",
       " '__spec__': None,\n",
       " '__file__': 'book_format.py',\n",
       " '__cached__': None,\n",
       " '__builtins__': {'__name__': 'builtins',\n",
       "  '__doc__': \"Built-in functions, types, exceptions, and other objects.\\n\\nThis module provides direct access to all 'built-in'\\nidentifiers of Python; for example, builtins.len is\\nthe full name for the built-in function len().\\n\\nThis module is not normally accessed explicitly by most\\napplications, but can be useful in modules that provide\\nobjects with the same name as a built-in value, but in\\nwhich the built-in of that name is also needed.\",\n",
       "  '__package__': '',\n",
       "  '__loader__': _frozen_importlib.BuiltinImporter,\n",
       "  '__spec__': ModuleSpec(name='builtins', loader=<class '_frozen_importlib.BuiltinImporter'>, origin='built-in'),\n",
       "  '__build_class__': <function __build_class__>,\n",
       "  '__import__': <function __import__(name, globals=None, locals=None, fromlist=(), level=0)>,\n",
       "  'abs': <function abs(x, /)>,\n",
       "  'all': <function all(iterable, /)>,\n",
       "  'any': <function any(iterable, /)>,\n",
       "  'ascii': <function ascii(obj, /)>,\n",
       "  'bin': <function bin(number, /)>,\n",
       "  'breakpoint': <function breakpoint(*args, **kws)>,\n",
       "  'callable': <function callable(obj, /)>,\n",
       "  'chr': <function chr(i, /)>,\n",
       "  'compile': <function compile(source, filename, mode, flags=0, dont_inherit=False, optimize=-1, *, _feature_version=-1)>,\n",
       "  'delattr': <function delattr(obj, name, /)>,\n",
       "  'dir': <function dir>,\n",
       "  'divmod': <function divmod(x, y, /)>,\n",
       "  'eval': <function eval(source, /, globals=None, locals=None)>,\n",
       "  'exec': <function exec(source, /, globals=None, locals=None, *, closure=None)>,\n",
       "  'format': <function format(value, format_spec='', /)>,\n",
       "  'getattr': <function getattr>,\n",
       "  'globals': <function globals()>,\n",
       "  'hasattr': <function hasattr(obj, name, /)>,\n",
       "  'hash': <function hash(obj, /)>,\n",
       "  'hex': <function hex(number, /)>,\n",
       "  'id': <function id(obj, /)>,\n",
       "  'input': <bound method Kernel.raw_input of <ipykernel.ipkernel.IPythonKernel object at 0x7f7b53e6eba0>>,\n",
       "  'isinstance': <function isinstance(obj, class_or_tuple, /)>,\n",
       "  'issubclass': <function issubclass(cls, class_or_tuple, /)>,\n",
       "  'iter': <function iter>,\n",
       "  'aiter': <function aiter(async_iterable, /)>,\n",
       "  'len': <function len(obj, /)>,\n",
       "  'locals': <function locals()>,\n",
       "  'max': <function max>,\n",
       "  'min': <function min>,\n",
       "  'next': <function next>,\n",
       "  'anext': <function anext>,\n",
       "  'oct': <function oct(number, /)>,\n",
       "  'ord': <function ord(character, /)>,\n",
       "  'pow': <function pow(base, exp, mod=None)>,\n",
       "  'print': <function print(*args, sep=' ', end='\\n', file=None, flush=False)>,\n",
       "  'repr': <function repr(obj, /)>,\n",
       "  'round': <function round(number, ndigits=None)>,\n",
       "  'setattr': <function setattr(obj, name, value, /)>,\n",
       "  'sorted': <function sorted(iterable, /, *, key=None, reverse=False)>,\n",
       "  'sum': <function sum(iterable, /, start=0)>,\n",
       "  'vars': <function vars>,\n",
       "  'None': None,\n",
       "  'Ellipsis': Ellipsis,\n",
       "  'NotImplemented': NotImplemented,\n",
       "  'False': False,\n",
       "  'True': True,\n",
       "  'bool': bool,\n",
       "  'memoryview': memoryview,\n",
       "  'bytearray': bytearray,\n",
       "  'bytes': bytes,\n",
       "  'classmethod': classmethod,\n",
       "  'complex': complex,\n",
       "  'dict': dict,\n",
       "  'enumerate': enumerate,\n",
       "  'filter': filter,\n",
       "  'float': float,\n",
       "  'frozenset': frozenset,\n",
       "  'property': property,\n",
       "  'int': int,\n",
       "  'list': list,\n",
       "  'map': map,\n",
       "  'object': object,\n",
       "  'range': range,\n",
       "  'reversed': reversed,\n",
       "  'set': set,\n",
       "  'slice': slice,\n",
       "  'staticmethod': staticmethod,\n",
       "  'str': str,\n",
       "  'super': super,\n",
       "  'tuple': tuple,\n",
       "  'type': type,\n",
       "  'zip': zip,\n",
       "  '__debug__': True,\n",
       "  'BaseException': BaseException,\n",
       "  'BaseExceptionGroup': BaseExceptionGroup,\n",
       "  'Exception': Exception,\n",
       "  'GeneratorExit': GeneratorExit,\n",
       "  'KeyboardInterrupt': KeyboardInterrupt,\n",
       "  'SystemExit': SystemExit,\n",
       "  'ArithmeticError': ArithmeticError,\n",
       "  'AssertionError': AssertionError,\n",
       "  'AttributeError': AttributeError,\n",
       "  'BufferError': BufferError,\n",
       "  'EOFError': EOFError,\n",
       "  'ImportError': ImportError,\n",
       "  'LookupError': LookupError,\n",
       "  'MemoryError': MemoryError,\n",
       "  'NameError': NameError,\n",
       "  'OSError': OSError,\n",
       "  'ReferenceError': ReferenceError,\n",
       "  'RuntimeError': RuntimeError,\n",
       "  'StopAsyncIteration': StopAsyncIteration,\n",
       "  'StopIteration': StopIteration,\n",
       "  'SyntaxError': SyntaxError,\n",
       "  'SystemError': SystemError,\n",
       "  'TypeError': TypeError,\n",
       "  'ValueError': ValueError,\n",
       "  'Warning': Warning,\n",
       "  'FloatingPointError': FloatingPointError,\n",
       "  'OverflowError': OverflowError,\n",
       "  'ZeroDivisionError': ZeroDivisionError,\n",
       "  'BytesWarning': BytesWarning,\n",
       "  'DeprecationWarning': DeprecationWarning,\n",
       "  'EncodingWarning': EncodingWarning,\n",
       "  'FutureWarning': FutureWarning,\n",
       "  'ImportWarning': ImportWarning,\n",
       "  'PendingDeprecationWarning': PendingDeprecationWarning,\n",
       "  'ResourceWarning': ResourceWarning,\n",
       "  'RuntimeWarning': RuntimeWarning,\n",
       "  'SyntaxWarning': SyntaxWarning,\n",
       "  'UnicodeWarning': UnicodeWarning,\n",
       "  'UserWarning': UserWarning,\n",
       "  'BlockingIOError': BlockingIOError,\n",
       "  'ChildProcessError': ChildProcessError,\n",
       "  'ConnectionError': ConnectionError,\n",
       "  'FileExistsError': FileExistsError,\n",
       "  'FileNotFoundError': FileNotFoundError,\n",
       "  'InterruptedError': InterruptedError,\n",
       "  'IsADirectoryError': IsADirectoryError,\n",
       "  'NotADirectoryError': NotADirectoryError,\n",
       "  'PermissionError': PermissionError,\n",
       "  'ProcessLookupError': ProcessLookupError,\n",
       "  'TimeoutError': TimeoutError,\n",
       "  'IndentationError': IndentationError,\n",
       "  '_IncompleteInputError': _IncompleteInputError,\n",
       "  'IndexError': IndexError,\n",
       "  'KeyError': KeyError,\n",
       "  'ModuleNotFoundError': ModuleNotFoundError,\n",
       "  'NotImplementedError': NotImplementedError,\n",
       "  'PythonFinalizationError': PythonFinalizationError,\n",
       "  'RecursionError': RecursionError,\n",
       "  'UnboundLocalError': UnboundLocalError,\n",
       "  'UnicodeError': UnicodeError,\n",
       "  'BrokenPipeError': BrokenPipeError,\n",
       "  'ConnectionAbortedError': ConnectionAbortedError,\n",
       "  'ConnectionRefusedError': ConnectionRefusedError,\n",
       "  'ConnectionResetError': ConnectionResetError,\n",
       "  'TabError': TabError,\n",
       "  'UnicodeDecodeError': UnicodeDecodeError,\n",
       "  'UnicodeEncodeError': UnicodeEncodeError,\n",
       "  'UnicodeTranslateError': UnicodeTranslateError,\n",
       "  'ExceptionGroup': ExceptionGroup,\n",
       "  'EnvironmentError': OSError,\n",
       "  'IOError': OSError,\n",
       "  'open': <function _io.open(file, mode='r', buffering=-1, encoding=None, errors=None, newline=None, closefd=True, opener=None)>,\n",
       "  'copyright': Copyright (c) 2001-2024 Python Software Foundation.\n",
       "  All Rights Reserved.\n",
       "  \n",
       "  Copyright (c) 2000 BeOpen.com.\n",
       "  All Rights Reserved.\n",
       "  \n",
       "  Copyright (c) 1995-2001 Corporation for National Research Initiatives.\n",
       "  All Rights Reserved.\n",
       "  \n",
       "  Copyright (c) 1991-1995 Stichting Mathematisch Centrum, Amsterdam.\n",
       "  All Rights Reserved.,\n",
       "  'credits':     Thanks to CWI, CNRI, BeOpen, Zope Corporation, the Python Software\n",
       "      Foundation, and a cast of thousands for supporting Python\n",
       "      development.  See www.python.org for more information.,\n",
       "  'license': Type license() to see the full license text,\n",
       "  'help': Type help() for interactive help, or help(object) for help about object.,\n",
       "  'execfile': <function _pydev_bundle._pydev_execfile.execfile(file, glob=None, loc=None)>,\n",
       "  'runfile': <function _pydev_bundle.pydev_umd.runfile(filename, args=None, wdir=None, namespace=None)>,\n",
       "  '__IPYTHON__': True,\n",
       "  'display': <function IPython.core.display_functions.display(*objs, include=None, exclude=None, metadata=None, transient=None, display_id=None, raw=False, clear=False, **kwargs)>,\n",
       "  'get_ipython': <bound method InteractiveShell.get_ipython of <ipykernel.zmqshell.ZMQInteractiveShell object at 0x7f7b502aeba0>>},\n",
       " 'contextmanager': <function contextlib.contextmanager(func)>,\n",
       " 'HTML': IPython.core.display.HTML,\n",
       " 'json': <module 'json' from '/usr/lib/python3.13/json/__init__.py'>,\n",
       " 'os': <module 'os' (frozen)>,\n",
       " 'sys': <module 'sys' (built-in)>,\n",
       " 'warnings': <module 'warnings' from '/usr/lib/python3.13/warnings.py'>,\n",
       " 'set_figsize': <function kf_book.book_plots.set_figsize(x=9, y=4)>,\n",
       " 'reset_figsize': <function kf_book.book_plots.reset_figsize()>,\n",
       " 'test_installation': <function <run_path>.test_installation()>,\n",
       " '__warningregistry__': {'version': 82},\n",
       " 'matplotlib': <module 'matplotlib' from '/home/evelyn/vs-code-workspace/embedded_ai/env/lib/python3.13/site-packages/matplotlib/__init__.py'>,\n",
       " 'pylab': <module 'matplotlib.pylab' from '/home/evelyn/vs-code-workspace/embedded_ai/env/lib/python3.13/site-packages/matplotlib/pylab.py'>,\n",
       " 'plt': <module 'matplotlib.pyplot' from '/home/evelyn/vs-code-workspace/embedded_ai/env/lib/python3.13/site-packages/matplotlib/pyplot.py'>,\n",
       " 'np': <module 'numpy' from '/home/evelyn/vs-code-workspace/embedded_ai/env/lib/python3.13/site-packages/numpy/__init__.py'>,\n",
       " 'numpy_precision': <function <run_path>.numpy_precision(precision)>,\n",
       " 'printoptions': <function <run_path>.printoptions(*args, **kwargs)>,\n",
       " '_decode_list': <function <run_path>._decode_list(data)>,\n",
       " '_decode_dict': <function <run_path>._decode_dict(data)>,\n",
       " 'set_style': <function <run_path>.set_style()>}"
      ]
     },
     "execution_count": 2,
     "metadata": {},
     "output_type": "execute_result"
    }
   ],
   "source": [
    "# # Colab makeup\n",
    "\n",
    "#format the book\n",
    "from __future__ import division, print_function\n",
    "%matplotlib inline\n",
    "import runpy\n",
    "runpy.run_path('book_format.py')"
   ]
  },
  {
   "cell_type": "markdown",
   "metadata": {
    "id": "3oRyo2WEbkeb"
   },
   "source": [
    "## Building Intuition via Thought Experiments"
   ]
  },
  {
   "cell_type": "markdown",
   "metadata": {
    "id": "WaEPUt4Nbkeb"
   },
   "source": [
    "Imagine that we live in a world without scales - the devices you stand on to weigh yourself. One day at work a co-worker comes running up to you and announces her invention of a 'scale' to you."
   ]
  },
  {
   "cell_type": "markdown",
   "metadata": {
    "id": "E7enhS65bkeb"
   },
   "source": [
    "After she explains, you eagerly stand on it and announce the results: \"172 lbs\". You are ecstatic - for the first time in your life you know what you weigh."
   ]
  },
  {
   "cell_type": "markdown",
   "metadata": {
    "id": "jzvJNM1Vbkec"
   },
   "source": [
    "More importantly, dollar signs dance in your eyes as you imagine selling this device to weight loss clinics across the world! This is fantastic!"
   ]
  },
  {
   "cell_type": "markdown",
   "metadata": {
    "id": "3nRf0Lg5bkec"
   },
   "source": [
    "Another co-worker hears the commotion and comes over to find out what has you so excited. You explain the invention and once again step onto the scale, and proudly proclaim the result: \"161 lbs.\" And then you hesitate, confused."
   ]
  },
  {
   "cell_type": "markdown",
   "metadata": {
    "id": "RVcQBeE0bkec"
   },
   "source": [
    "\"It read 172 lbs a few seconds ago\", you complain to your co-worker."
   ]
  },
  {
   "cell_type": "markdown",
   "metadata": {
    "id": "_mJUkakFbkec"
   },
   "source": [
    "\"I never said it was accurate,\" she replies."
   ]
  },
  {
   "cell_type": "markdown",
   "metadata": {
    "id": "qP3bKuucbkec"
   },
   "source": [
    "Sensors are inaccurate."
   ]
  },
  {
   "cell_type": "markdown",
   "metadata": {
    "id": "P_hAEyYKbkec"
   },
   "source": [
    "This is the motivation behind a huge body of work in filtering, and solving this problem is the topic of this book."
   ]
  },
  {
   "cell_type": "markdown",
   "metadata": {
    "id": "q9yo_Axhbkec"
   },
   "source": [
    "I could just provide the solutions that have been developed over the last half century, but these solutions were developed by asking very basic, fundamental questions into the nature of what we know and how we know it."
   ]
  },
  {
   "cell_type": "markdown",
   "metadata": {
    "id": "dVIZpYQ-bked"
   },
   "source": [
    "Before we attempt the math, let's follow that journey of discovery, and see if it informs our intuition about filtering."
   ]
  },
  {
   "cell_type": "markdown",
   "metadata": {
    "id": "wpCZ53EVbked"
   },
   "source": [
    "**Try Another Scale**\n",
    "\n",
    "Is there any way we can improve upon this result?"
   ]
  },
  {
   "cell_type": "markdown",
   "metadata": {
    "id": "Iljoh4V9bked"
   },
   "source": [
    "The obvious, first thing to try is get a better sensor. Unfortunately, your co-worker informs you that she has built 10 scales, and they all operate with about the same accuracy."
   ]
  },
  {
   "cell_type": "markdown",
   "metadata": {
    "id": "EXM3mxXbbked"
   },
   "source": [
    "You have her bring out another scale, and you weigh yourself on one, and then on the other. The first scale (A) reads \"160 lbs\", and the second (B) reads \"170 lbs\"."
   ]
  },
  {
   "cell_type": "markdown",
   "metadata": {
    "id": "-lOiyYf3bked"
   },
   "source": [
    "What can we conclude about your weight?"
   ]
  },
  {
   "cell_type": "markdown",
   "metadata": {
    "id": "RMXgQH6Bbked"
   },
   "source": [
    "Well, what are our choices?\n",
    "\n",
    "* We could choose to only believe A, and assign 160lbs to our weight estimate.\n",
    "* We could choose to only believe B, and assign 170lbs to our weight.\n",
    "* We could choose a number less than both A and B.\n",
    "* We could choose a number greater than both A and B.\n",
    "* We could choose a number between A and B."
   ]
  },
  {
   "cell_type": "markdown",
   "metadata": {
    "id": "fG3QUGLobked"
   },
   "source": [
    "The first two choices are plausible, but we have no reason to favor one scale over the other. Why would we choose to believe A instead of B? We have no reason for such a belief."
   ]
  },
  {
   "cell_type": "markdown",
   "metadata": {
    "id": "5H9Ug1T5bked"
   },
   "source": [
    "The third and fourth choices are irrational. The scales are admittedly not very accurate, but there is no reason at all to choose a number outside of the range of what they both measured."
   ]
  },
  {
   "cell_type": "markdown",
   "metadata": {
    "id": "kjVS8gqTbked"
   },
   "source": [
    "The final choice is the only reasonable one. If both scales are inaccurate, and as likely to give a result above my actual weight as below it, more often than not the answer is somewhere between A and B."
   ]
  },
  {
   "cell_type": "markdown",
   "metadata": {
    "id": "ILu1A7mCbkee"
   },
   "source": [
    "In mathematics this concept is formalized as [*expected value$^1$*](https://en.wikipedia.org/wiki/Expected_value), and we will cover it in depth later.\n",
    "\n",
    "$^1$ \"the long-run average value of repetitions of the experiment\""
   ]
  },
  {
   "cell_type": "markdown",
   "metadata": {
    "id": "K1KfAlowbkee"
   },
   "source": [
    "For now ask yourself what would be the 'usual' thing to happen if we took one million readings.\n",
    "- Some of the times both scales will read too low,\n",
    "- sometimes both will read too high, and\n",
    "- the rest of the time they will straddle the actual weight."
   ]
  },
  {
   "cell_type": "markdown",
   "metadata": {
    "id": "cfSVd7zrbkee"
   },
   "source": [
    "If they straddle the actual weight then certainly we should choose a number between A and B."
   ]
  },
  {
   "cell_type": "markdown",
   "metadata": {
    "id": "8o7CKSw2bkee"
   },
   "source": [
    "If they don't straddle then we don't know if they are both too high or low, but by choosing a number between A and B we at least mitigate the effect of the worst measurement."
   ]
  },
  {
   "cell_type": "markdown",
   "metadata": {
    "id": "AazrW0NQbkee"
   },
   "source": [
    "For example, suppose our actual weight is 180 lbs. <br> 160 lbs is a big error. But if we choose a weight between 160 lbs and 170 lbs our estimate will be better than 160 lbs. <br>The same argument holds if both scales returned a value greater than the actual weight."
   ]
  },
  {
   "cell_type": "markdown",
   "metadata": {
    "id": "7NPdIZjZbkee"
   },
   "source": [
    "We will deal with this more formally later, but for now I hope it is clear that our best estimate is the average of A and B. $\\frac{160+170}{2} = 165$."
   ]
  },
  {
   "cell_type": "markdown",
   "metadata": {
    "id": "nbSzMBwabkef"
   },
   "source": [
    "We can look at this graphically.\n",
    "\n",
    "I have plotted the measurements of A and B with an assumed error of $\\pm$ 8 lbs.\n",
    "\n",
    "The measurements falls between 160 and 170 so the only weight that makes sense must lie within 160 and 170 lbs."
   ]
  },
  {
   "cell_type": "code",
   "execution_count": 3,
   "metadata": {
    "colab": {
     "base_uri": "https://localhost:8080/",
     "height": 214
    },
    "executionInfo": {
     "elapsed": 119,
     "status": "ok",
     "timestamp": 1757521869105,
     "user": {
      "displayName": "Mehmet Ergezer",
      "userId": "09071058300265774123"
     },
     "user_tz": 240
    },
    "id": "dAfGm2yObkef",
    "outputId": "0a5d9c26-f883-4c14-ac4e-00c8e6aed8af"
   },
   "outputs": [
    {
     "data": {
      "image/png": "[encoded data removed]",
      "text/plain": [
       "<Figure size 800x200 with 1 Axes>"
      ]
     },
     "metadata": {},
     "output_type": "display_data"
    }
   ],
   "source": [
    "import kf_book.book_plots as book_plots\n",
    "from kf_book.book_plots import plot_errorbars\n",
    "plot_errorbars([(160, 8, 'A'), (170, 8, 'B')], xlims=(150, 180))"
   ]
  },
  {
   "cell_type": "markdown",
   "metadata": {
    "id": "GbeH5sHnbkef"
   },
   "source": [
    "Which region would be a good estimate?"
   ]
  },
  {
   "cell_type": "markdown",
   "metadata": {
    "id": "uwZzAgjObkef"
   },
   "source": [
    "A word on how I generated this plot. I import code from the module book_plots in the `kf_book` subdirectory. Generating this plot takes a lot of boilerplate Python that isn't interesting to read. I take this tack often in the book. When the cell is run `plot_errorbars()` gets called and the plot is inserted into the book.\n",
    "\n",
    "If you want to view the code for plot_errorbars ...:\n",
    "\n",
    "https://github.com/rlabbe/Kalman-and-Bayesian-Filters-in-Python/blob/master/kf_book/book_plots.py\n",
    "```Python\n",
    "\n",
    "    plot_errorbars??\n",
    "```\n",
    "or\n",
    "```Python\n",
    "    plot_errorbars?\n",
    "```"
   ]
  },
  {
   "cell_type": "markdown",
   "metadata": {
    "id": "O2W1YIGLbkef"
   },
   "source": [
    "So 165 lbs looks like a reasonable estimate, but there is more information here that we might be able to take advantage of."
   ]
  },
  {
   "cell_type": "markdown",
   "metadata": {
    "id": "VpeP_G1ybkef"
   },
   "source": [
    "The only weights that are possible lie in the intersection between the error bars of A and B."
   ]
  },
  {
   "cell_type": "markdown",
   "metadata": {
    "id": "zPTg0cBIbkef"
   },
   "source": [
    "For example, a weight of 161 lbs is impossible because scale B could not give a reading of 170 lbs with a maximum error of 8 pounds."
   ]
  },
  {
   "cell_type": "markdown",
   "metadata": {
    "id": "SssXBc86bkef"
   },
   "source": [
    "Likewise a weight of 169 lbs is impossible because scale A could not give a reading of 160 lbs with a maximum error of 8 lbs. In this example the only possible weights lie in the range of 162 to 168 lbs."
   ]
  },
  {
   "cell_type": "markdown",
   "metadata": {
    "id": "_xa5A-ghbkef"
   },
   "source": [
    "That doesn't yet allow us to find a better weight estimate, but let's play 'what if' some more."
   ]
  },
  {
   "cell_type": "markdown",
   "metadata": {
    "id": "bPf7ZlKabkeg"
   },
   "source": [
    "What if we are now told that A is three times more accurate than B?"
   ]
  },
  {
   "cell_type": "markdown",
   "metadata": {
    "id": "6XEPnlyIbkeg"
   },
   "source": [
    "Consider the 5 options we listed above. It still makes no sense to choose a number outside the range of A and B, so we will not consider those."
   ]
  },
  {
   "cell_type": "markdown",
   "metadata": {
    "id": "RqcOGdfpbkeg"
   },
   "source": [
    "It perhaps seems more compelling to choose A as our estimate - after all, we know it is more accurate, why not use it instead of B?"
   ]
  },
  {
   "cell_type": "markdown",
   "metadata": {
    "id": "kRVFgcnzbkeg"
   },
   "source": [
    "Can B possibly improve our knowledge over A alone?"
   ]
  },
  {
   "cell_type": "markdown",
   "metadata": {
    "id": "w-HAiPpNbkeg"
   },
   "source": [
    "The answer, perhaps counter intuitively, is yes, it can.\n",
    "\n",
    "First, let's look at the same measurements of A=160 and B=170, but with the error of A $\\pm$ 3 lbs and the error of B is 3 times as much, $\\pm$ 9 lbs."
   ]
  },
  {
   "cell_type": "code",
   "execution_count": 4,
   "metadata": {
    "colab": {
     "base_uri": "https://localhost:8080/",
     "height": 214
    },
    "executionInfo": {
     "elapsed": 56,
     "status": "ok",
     "timestamp": 1757521976211,
     "user": {
      "displayName": "Mehmet Ergezer",
      "userId": "09071058300265774123"
     },
     "user_tz": 240
    },
    "id": "Slm26De2bkeg",
    "outputId": "c610198f-eae7-4971-98c2-c6c162acf2a2"
   },
   "outputs": [
    {
     "data": {
      "image/png": "[encoded data removed]",
      "text/plain": [
       "<Figure size 800x200 with 1 Axes>"
      ]
     },
     "metadata": {},
     "output_type": "display_data"
    }
   ],
   "source": [
    "plot_errorbars([(160, 3, 'A'), (170, 9, 'B')], xlims=(150, 180))"
   ]
  },
  {
   "cell_type": "markdown",
   "metadata": {
    "id": "SbN5FK6dbkeg"
   },
   "source": [
    "The overlap of the error bars of A and B are the only possible true weight."
   ]
  },
  {
   "cell_type": "markdown",
   "metadata": {
    "id": "tSCZbFQVbkeg"
   },
   "source": [
    "This overlap is smaller than the error in A alone."
   ]
  },
  {
   "cell_type": "markdown",
   "metadata": {
    "id": "_9UG_Fzsbkeg"
   },
   "source": [
    "More importantly, in this case we can see that the overlap doesn't include 160 lbs or 165 lbs."
   ]
  },
  {
   "cell_type": "markdown",
   "metadata": {
    "id": "uIIX5nugbkeg"
   },
   "source": [
    "If we only used the measurement from A because it is more accurate than B we would give an estimate of 160 lbs."
   ]
  },
  {
   "cell_type": "markdown",
   "metadata": {
    "id": "dCtq3LAVbkeh"
   },
   "source": [
    "If we average A and B we would get 165 lbs. Neither of those weights are possible given our knowledge of the accuracy of the scales."
   ]
  },
  {
   "cell_type": "markdown",
   "metadata": {
    "id": "u5WH5xGhbkeh"
   },
   "source": [
    "By including the measurement of B we would give an estimate somewhere between 161 lbs and 163 lbs, the limits of the intersections of the two error bars."
   ]
  },
  {
   "cell_type": "markdown",
   "metadata": {
    "id": "xbr9nogMbkeh"
   },
   "source": [
    "Let's take this to the extreme limits.  \n",
    "\n",
    "Assume we know scale A is accurate to 1 lb. In other words, if we truly weigh 170 lbs, it could report 169, 170, or 171 lbs.\n",
    "\n",
    "We also know that scale B is accurate to 9 lbs. We do a weighing on each scale, and get A=160, and B=170.\n",
    "\n",
    "What should we estimate our weight to be? Let's look at that graphically."
   ]
  },
  {
   "cell_type": "code",
   "execution_count": 5,
   "metadata": {
    "colab": {
     "base_uri": "https://localhost:8080/",
     "height": 214
    },
    "executionInfo": {
     "elapsed": 43,
     "status": "ok",
     "timestamp": 1757521979280,
     "user": {
      "displayName": "Mehmet Ergezer",
      "userId": "09071058300265774123"
     },
     "user_tz": 240
    },
    "id": "a3w3bKELbkeh",
    "outputId": "9ff7c79b-95e4-42e2-a3ca-199eafd414ad"
   },
   "outputs": [
    {
     "data": {
      "image/png": "[encoded data removed]",
      "text/plain": [
       "<Figure size 800x200 with 1 Axes>"
      ]
     },
     "metadata": {},
     "output_type": "display_data"
    }
   ],
   "source": [
    "plot_errorbars([(160, 1, 'A'), (170, 9, 'B')], xlims=(150, 180))"
   ]
  },
  {
   "cell_type": "markdown",
   "metadata": {
    "id": "jZtS4PgZbkeh"
   },
   "source": [
    "Here we can see that the only possible weight is 161 lbs. This is an important result.\n",
    "\n",
    "With two relatively inaccurate sensors we are able to deduce an extremely accurate result."
   ]
  },
  {
   "cell_type": "markdown",
   "metadata": {
    "id": "pn5Y5DOnbkeh"
   },
   "source": [
    "**So two sensors, even if one is less accurate than the other, is better than one.**"
   ]
  },
  {
   "cell_type": "markdown",
   "metadata": {
    "id": "NMmVme9tbkeh"
   },
   "source": [
    "I will harp on this for the remainder of the book. We never throw information away, no matter how poor it is.\n",
    "\n",
    "We will be developing math and algorithms that allow us to include all possible sources of information to form the best estimate possible."
   ]
  },
  {
   "cell_type": "markdown",
   "metadata": {
    "id": "nPALyrT5bkeh"
   },
   "source": [
    "However, we have strayed from our problem."
   ]
  },
  {
   "cell_type": "markdown",
   "metadata": {
    "id": "8B-GP_BEbkei"
   },
   "source": [
    "No customer is going to want to buy multiple scales,"
   ]
  },
  {
   "cell_type": "markdown",
   "metadata": {
    "id": "Q0gCA9gtbkei"
   },
   "source": [
    "and besides, we initially started with an assumption that all scales were equally (in)accurate."
   ]
  },
  {
   "cell_type": "markdown",
   "metadata": {
    "id": "SWah37Tibkei"
   },
   "source": [
    "This insight of using all measurements regardless of accuracy will play a large role later, so don't forget it."
   ]
  },
  {
   "cell_type": "markdown",
   "metadata": {
    "id": "3dIcsGm7bkei"
   },
   "source": [
    "What if I have one scale, but I weigh myself many times?"
   ]
  },
  {
   "cell_type": "markdown",
   "metadata": {
    "id": "Dhs-J6Fbbkei"
   },
   "source": [
    "We concluded that if we had two scales of equal accuracy we should average the results of their measurements."
   ]
  },
  {
   "cell_type": "markdown",
   "metadata": {
    "id": "rYFrZIdQbkei"
   },
   "source": [
    "What if I weigh myself 10,000 times with one scale?"
   ]
  },
  {
   "cell_type": "markdown",
   "metadata": {
    "id": "T8aywb94bkei"
   },
   "source": [
    "We have already stated that the scale is equally likely to return a number too large as it is to return one that is too small."
   ]
  },
  {
   "cell_type": "markdown",
   "metadata": {
    "id": "1PlVP3Y9bkei"
   },
   "source": [
    "It is not that hard to prove that the average of a large number of weights will be very close to the actual weight, but let's write a simulation for now.\n",
    "\n",
    "I will use NumPy, part of the [SciPy](https://scipy.org/) ecosystem for numerical computation."
   ]
  },
  {
   "cell_type": "code",
   "execution_count": 6,
   "metadata": {
    "colab": {
     "base_uri": "https://localhost:8080/"
    },
    "executionInfo": {
     "elapsed": 5,
     "status": "ok",
     "timestamp": 1757521982684,
     "user": {
      "displayName": "Mehmet Ergezer",
      "userId": "09071058300265774123"
     },
     "user_tz": 240
    },
    "id": "f1v58nTxbkei",
    "outputId": "528947e7-c75f-419f-f2c8-83316df76c2f"
   },
   "outputs": [
    {
     "name": "stdout",
     "output_type": "stream",
     "text": [
      "Average of measurements is 164.9934\n"
     ]
    }
   ],
   "source": [
    "import numpy as np\n",
    "measurements = np.random.uniform(160, 170, size=10000)\n",
    "mean = measurements.mean()\n",
    "print('Average of measurements is {:.4f}'.format(mean))"
   ]
  },
  {
   "cell_type": "markdown",
   "metadata": {
    "id": "WWa_q8ePbkei"
   },
   "source": [
    "The exact number printed depends on your random number generator, but it should be very close to 165."
   ]
  },
  {
   "cell_type": "markdown",
   "metadata": {
    "id": "xVOQN295bkei"
   },
   "source": [
    "This code makes one assumption that probably isn't true -"
   ]
  },
  {
   "cell_type": "markdown",
   "metadata": {
    "id": "jEc3AKoHbkei"
   },
   "source": [
    "that the scale is as likely to read 160 as 165 for a true weight of 165 lbs."
   ]
  },
  {
   "cell_type": "markdown",
   "metadata": {
    "id": "jUbFNgWTbkei"
   },
   "source": [
    "This is almost never true."
   ]
  },
  {
   "cell_type": "markdown",
   "metadata": {
    "id": "FwHojVrgbkei"
   },
   "source": [
    "Real sensors are more likely to get readings nearer the true value, and are less and less likely to get readings the further away from the true value it gets."
   ]
  },
  {
   "cell_type": "markdown",
   "metadata": {
    "id": "Ps84fnYubkei"
   },
   "source": [
    "We will cover this in detail in the Gaussian chapter."
   ]
  },
  {
   "cell_type": "markdown",
   "metadata": {
    "id": "P8DaV4NTbkei"
   },
   "source": [
    "For now, I will use without further explanation the `numpy.random.normal()` function, which will produce more values nearer 165 lbs, and fewer further away. Take it on faith for now that this will produce noisy measurements similar to how a real scale works."
   ]
  },
  {
   "cell_type": "code",
   "execution_count": 7,
   "metadata": {
    "colab": {
     "base_uri": "https://localhost:8080/"
    },
    "executionInfo": {
     "elapsed": 10,
     "status": "ok",
     "timestamp": 1757521985732,
     "user": {
      "displayName": "Mehmet Ergezer",
      "userId": "09071058300265774123"
     },
     "user_tz": 240
    },
    "id": "HUv5nyKsbkei",
    "outputId": "71512443-b6bf-4cd9-cb52-c2d8c7611cba"
   },
   "outputs": [
    {
     "name": "stdout",
     "output_type": "stream",
     "text": [
      "Average of measurements is 165.0291\n"
     ]
    }
   ],
   "source": [
    "mean = np.random.normal(165, 5, size=10000).mean()\n",
    "print('Average of measurements is {:.4f}'.format(mean))"
   ]
  },
  {
   "cell_type": "markdown",
   "metadata": {
    "id": "kKz2vFaAbkei"
   },
   "source": [
    "Again the answer is very close to 165."
   ]
  },
  {
   "cell_type": "markdown",
   "metadata": {
    "id": "ozBlxxYhbkei"
   },
   "source": [
    "Okay, great, we have an answer to our sensor problem! But it is not a very practical answer. No one has the patience to weigh themselves ten thousand, or even a dozen times."
   ]
  },
  {
   "cell_type": "markdown",
   "metadata": {
    "id": "m9gTFpBgbkei"
   },
   "source": [
    "So, let's play 'what if'."
   ]
  },
  {
   "cell_type": "markdown",
   "metadata": {
    "id": "liuwbg3Lbkei"
   },
   "source": [
    "What if you measured your weight once a day, and got the readings 170, 161, and then 169."
   ]
  },
  {
   "cell_type": "markdown",
   "metadata": {
    "id": "iNOzbL84bkej"
   },
   "source": [
    "Did you gain weight, lose weight, or is this all just noisy measurements?"
   ]
  },
  {
   "cell_type": "markdown",
   "metadata": {
    "id": "7uj24ccybkej"
   },
   "source": [
    "We really can't say."
   ]
  },
  {
   "cell_type": "markdown",
   "metadata": {
    "id": "NYsq2Vpfbkej"
   },
   "source": [
    "The first measurement was 170, and the last was 169, implying a 1 lb loss."
   ]
  },
  {
   "cell_type": "markdown",
   "metadata": {
    "id": "wv-4i0wKbkej"
   },
   "source": [
    "But if the scale is only accurate to 10 lbs, that is explainable by noise."
   ]
  },
  {
   "cell_type": "code",
   "execution_count": 8,
   "metadata": {
    "colab": {
     "base_uri": "https://localhost:8080/",
     "height": 487
    },
    "executionInfo": {
     "elapsed": 414,
     "status": "ok",
     "timestamp": 1757521988857,
     "user": {
      "displayName": "Mehmet Ergezer",
      "userId": "09071058300265774123"
     },
     "user_tz": 240
    },
    "id": "Fn58dqP_bkej",
    "outputId": "4d5edd4b-e5c4-4f4b-ecc6-e2d38d7de4bd"
   },
   "outputs": [
    {
     "data": {
      "image/png": "[encoded data removed]",
      "text/plain": [
       "<Figure size 640x480 with 1 Axes>"
      ]
     },
     "metadata": {},
     "output_type": "display_data"
    }
   ],
   "source": [
    "#     with figsize(y=3.5):\n",
    "import matplotlib.pyplot as plt\n",
    "plt.figure()\n",
    "plt.errorbar([1, 2, 3], [170, 161, 169],\n",
    "             xerr=0, yerr=10, fmt='bo', capthick=2, capsize=10)\n",
    "plt.xlim(0,4); plt.ylim(150, 185)\n",
    "plt.xlabel('day'); plt.ylabel('lbs')\n",
    "plt.tight_layout()"
   ]
  },
  {
   "cell_type": "markdown",
   "metadata": {
    "id": "4tnZEA69bkej"
   },
   "source": [
    "I could have actually gained weight; maybe my weight on day one was 165 lbs, and on day three it was 172. It is possible to get those weight readings with that weight gain."
   ]
  },
  {
   "cell_type": "markdown",
   "metadata": {
    "id": "Gcv_UIXdbkej"
   },
   "source": [
    "My scale tells me I am losing weight, and I am actually gaining weight!"
   ]
  },
  {
   "cell_type": "markdown",
   "metadata": {
    "id": "vbUOfHBybkej"
   },
   "source": [
    "Let's look at that in a chart. I've plotted the measurements along with the error bars, and then some possible weight gain/losses that could be explained by those measurements in dotted green lines."
   ]
  },
  {
   "cell_type": "code",
   "execution_count": 9,
   "metadata": {
    "colab": {
     "base_uri": "https://localhost:8080/",
     "height": 482
    },
    "executionInfo": {
     "elapsed": 294,
     "status": "ok",
     "timestamp": 1757521992398,
     "user": {
      "displayName": "Mehmet Ergezer",
      "userId": "09071058300265774123"
     },
     "user_tz": 240
    },
    "id": "_wVoazIcbkej",
    "outputId": "a4ef81c0-661e-49a7-e468-97e10a61992e"
   },
   "outputs": [
    {
     "name": "stderr",
     "output_type": "stream",
     "text": [
      "/home/evelyn/vs-code-workspace/embedded_ai/jupiter notebook/Kalman-and-Bayesian-Filters-in-Python/kf_book/gh_internal.py:140: SyntaxWarning: invalid escape sequence '\\h'\n",
      "  plt.text (0.0, 159.8, \"last estimate ($\\hat{x}_{t-1}$)\", ha='left', va='top',fontsize=18)\n",
      "/home/evelyn/vs-code-workspace/embedded_ai/jupiter notebook/Kalman-and-Bayesian-Filters-in-Python/kf_book/gh_internal.py:166: SyntaxWarning: invalid escape sequence '\\h'\n",
      "  plt.text (0, 159.8, \"last estimate ($\\hat{x}_{t-1}$)\", ha='left', va='top',fontsize=18)\n",
      "/home/evelyn/vs-code-workspace/embedded_ai/jupiter notebook/Kalman-and-Bayesian-Filters-in-Python/kf_book/gh_internal.py:167: SyntaxWarning: invalid escape sequence '\\h'\n",
      "  plt.text (0.95, est_y, \"estimate ($\\hat{x}_{t}$)\", ha='right', va='center',fontsize=18)\n"
     ]
    },
    {
     "data": {
      "image/png": "[encoded data removed]",
      "text/plain": [
       "<Figure size 800x350 with 1 Axes>"
      ]
     },
     "metadata": {},
     "output_type": "display_data"
    }
   ],
   "source": [
    "import kf_book.gh_internal as gh\n",
    "gh.plot_hypothesis1()"
   ]
  },
  {
   "cell_type": "markdown",
   "metadata": {
    "id": "dkMq4Irubkej"
   },
   "source": [
    "As we can see there is an extreme range of weight changes that could be explained by these three measurements."
   ]
  },
  {
   "cell_type": "markdown",
   "metadata": {
    "id": "Qp2nAHWDbkej"
   },
   "source": [
    "In fact, there are an infinite number of choices."
   ]
  },
  {
   "cell_type": "markdown",
   "metadata": {
    "id": "yhdhwIgmbkel"
   },
   "source": [
    "Shall we give up?"
   ]
  },
  {
   "cell_type": "markdown",
   "metadata": {
    "id": "GEAiwk3Sbkel"
   },
   "source": [
    "Not me!"
   ]
  },
  {
   "cell_type": "markdown",
   "metadata": {
    "id": "1ZoEfJYkbkel"
   },
   "source": [
    "Recall that we are talking about measuring a human's weight."
   ]
  },
  {
   "cell_type": "markdown",
   "metadata": {
    "id": "LAlvATV7bkem"
   },
   "source": [
    "There is no reasonable way for a human to weigh 180 lbs on day 1 and 160 lbs on day 3. or to lose 30 lbs in one day only to gain it back the next"
   ]
  },
  {
   "cell_type": "markdown",
   "metadata": {
    "id": "YtZq3CrPbkem"
   },
   "source": [
    "(we will assume no amputations or other trauma has happened to the person)."
   ]
  },
  {
   "cell_type": "markdown",
   "metadata": {
    "id": "6rME4Os0bkem"
   },
   "source": [
    "The behavior of the physical system we are measuring should influence how we interpret the measurements."
   ]
  },
  {
   "cell_type": "markdown",
   "metadata": {
    "id": "gDkMUJJzbkem"
   },
   "source": [
    "If we were weighing a rock each day we'd attribute all of the variance to noise."
   ]
  },
  {
   "cell_type": "markdown",
   "metadata": {
    "id": "EaLPOQtfbkem"
   },
   "source": [
    "If we were weighing a cistern fed by rain and used for household chores we might believe such weight changes are real.\n"
   ]
  },
  {
   "cell_type": "markdown",
   "metadata": {
    "id": "F3ZB6hlnbkem"
   },
   "source": [
    "Suppose I take a different scale, and I get the following measurements: 169, 170, 169, 171, 170, 171, 169, 170, 169, 170."
   ]
  },
  {
   "cell_type": "markdown",
   "metadata": {
    "id": "GY7SUM8Ybkem"
   },
   "source": [
    "What does your intuition tell you?"
   ]
  },
  {
   "cell_type": "markdown",
   "metadata": {
    "id": "T0h9OS2fbkem"
   },
   "source": [
    "It is possible, for example, that you gained 1 lb each day, and the noisy measurements just happens to look like you stayed the same weight."
   ]
  },
  {
   "cell_type": "markdown",
   "metadata": {
    "id": "isVw4cHVbkem"
   },
   "source": [
    "Equally, you could have lost 1 lb a day and gotten the same readings."
   ]
  },
  {
   "cell_type": "markdown",
   "metadata": {
    "id": "PbxVLavnbkem"
   },
   "source": [
    "But is that likely?"
   ]
  },
  {
   "cell_type": "markdown",
   "metadata": {
    "id": "TmmxLiECbkem"
   },
   "source": [
    "How likely is it to flip a coin and get 10 heads in a row?"
   ]
  },
  {
   "cell_type": "markdown",
   "metadata": {
    "id": "iw8OmXm3bkem"
   },
   "source": [
    "Not very likely. We can't prove it based solely on these readings, but it seems pretty likely that my weight held steady."
   ]
  },
  {
   "cell_type": "markdown",
   "metadata": {
    "id": "oi2JAHMhbken"
   },
   "source": [
    "In the chart below I've plotted the measurements with error bars, and a likely true weight in dashed green. This dashed line is not meant to be the 'correct' answer to this problem, merely one that is reasonable and could be explained by the measurement."
   ]
  },
  {
   "cell_type": "code",
   "execution_count": 10,
   "metadata": {
    "colab": {
     "base_uri": "https://localhost:8080/",
     "height": 272
    },
    "executionInfo": {
     "elapsed": 56,
     "status": "ok",
     "timestamp": 1757522003563,
     "user": {
      "displayName": "Mehmet Ergezer",
      "userId": "09071058300265774123"
     },
     "user_tz": 240
    },
    "id": "heHGjszabken",
    "outputId": "26b593dd-ddab-4129-9f49-b3f8190c4eeb"
   },
   "outputs": [
    {
     "data": {
      "image/png": "[encoded data removed]",
      "text/plain": [
       "<Figure size 800x250 with 1 Axes>"
      ]
     },
     "metadata": {},
     "output_type": "display_data"
    }
   ],
   "source": [
    "gh.plot_hypothesis2()"
   ]
  },
  {
   "cell_type": "markdown",
   "metadata": {
    "id": "YCRyj-Kdbken"
   },
   "source": [
    "Another what if: what if the readings were 158.0, 164.2, 160.3, 159.9, 162.1, 164.6, 169.6, 167.4, 166.4, 171.0? Let's look at a chart of that and then answer some questions."
   ]
  },
  {
   "cell_type": "code",
   "execution_count": 11,
   "metadata": {
    "colab": {
     "base_uri": "https://localhost:8080/",
     "height": 272
    },
    "executionInfo": {
     "elapsed": 65,
     "status": "ok",
     "timestamp": 1757522007653,
     "user": {
      "displayName": "Mehmet Ergezer",
      "userId": "09071058300265774123"
     },
     "user_tz": 240
    },
    "id": "HP4PoIhlbken",
    "outputId": "d5472590-41be-444e-f3fa-9b9fd40888e8"
   },
   "outputs": [
    {
     "data": {
      "image/png": "[encoded data removed]",
      "text/plain": [
       "<Figure size 800x250 with 1 Axes>"
      ]
     },
     "metadata": {},
     "output_type": "display_data"
    }
   ],
   "source": [
    "gh.plot_hypothesis3()"
   ]
  },
  {
   "cell_type": "markdown",
   "metadata": {
    "id": "abkMRH61bken"
   },
   "source": [
    "Does it 'seem' likely that I lost weight and this is just really noisy data?"
   ]
  },
  {
   "cell_type": "markdown",
   "metadata": {
    "id": "UlL4s72ubken"
   },
   "source": [
    "Not really."
   ]
  },
  {
   "cell_type": "markdown",
   "metadata": {
    "id": "aX4OZa48bken"
   },
   "source": [
    "Does it seem likely that I held the same weight?"
   ]
  },
  {
   "cell_type": "markdown",
   "metadata": {
    "id": "It5o-OjIbken"
   },
   "source": [
    "Again, no."
   ]
  },
  {
   "cell_type": "markdown",
   "metadata": {
    "id": "5U04Pav6bken"
   },
   "source": [
    "This data trends upwards over time; not evenly, but definitely upwards."
   ]
  },
  {
   "cell_type": "markdown",
   "metadata": {
    "id": "6GAXajiwbken"
   },
   "source": [
    "We can't be sure, but that looks like a weight gain, and a significant weight gain at that."
   ]
  },
  {
   "cell_type": "markdown",
   "metadata": {
    "id": "aArzjEn4bken"
   },
   "source": [
    "Let's test this assumption with some more plots. It is often easier to 'eyeball' data in a chart versus a table."
   ]
  },
  {
   "cell_type": "markdown",
   "metadata": {
    "id": "wMAwpX2Bbken"
   },
   "source": [
    "So let's look at two hypotheses. First, let's assume our weight did not change. To get that number we agreed that we should average the measurements. Let's look at that."
   ]
  },
  {
   "cell_type": "code",
   "execution_count": 12,
   "metadata": {
    "id": "B6wy2CsHbken"
   },
   "outputs": [
    {
     "data": {
      "image/png": "[encoded data removed]",
      "text/plain": [
       "<Figure size 800x250 with 1 Axes>"
      ]
     },
     "metadata": {},
     "output_type": "display_data"
    }
   ],
   "source": [
    "gh.plot_hypothesis4()"
   ]
  },
  {
   "cell_type": "markdown",
   "metadata": {
    "id": "3F4oztcubken"
   },
   "source": [
    "That doesn't look very convincing. In fact, we can see that there is no horizontal line that we could draw that is inside all of the error bars."
   ]
  },
  {
   "cell_type": "markdown",
   "metadata": {
    "id": "2oy3Rk3dbken"
   },
   "source": [
    "Now, let's assume we gained weight."
   ]
  },
  {
   "cell_type": "markdown",
   "metadata": {
    "id": "EBBdX0OEbkeo"
   },
   "source": [
    "How much?"
   ]
  },
  {
   "cell_type": "markdown",
   "metadata": {
    "id": "ulNV9_ohbkeo"
   },
   "source": [
    "I don't know, but NumPy does!"
   ]
  },
  {
   "cell_type": "markdown",
   "metadata": {
    "id": "xGVDRq7tbkeo"
   },
   "source": [
    "We want to draw a line through the measurements that looks 'about' right."
   ]
  },
  {
   "cell_type": "markdown",
   "metadata": {
    "id": "7AQFXA_gbkeo"
   },
   "source": [
    "NumPy has functions that will do this according to a rule called \"least squares fit\". Let's not worry about the details of that computation (I use [polyfit()](https://docs.scipy.org/doc/numpy/reference/generated/numpy.polyfit.html) if you are interested), and just plot the results."
   ]
  },
  {
   "cell_type": "code",
   "execution_count": 13,
   "metadata": {
    "id": "C_HZSC8obkeo"
   },
   "outputs": [
    {
     "data": {
      "image/png": "[encoded data removed]",
      "text/plain": [
       "<Figure size 800x250 with 1 Axes>"
      ]
     },
     "metadata": {},
     "output_type": "display_data"
    }
   ],
   "source": [
    "gh.plot_hypothesis5()"
   ]
  },
  {
   "cell_type": "markdown",
   "metadata": {
    "id": "hz7nJDSVbkeo"
   },
   "source": [
    "This looks much better, at least to my eyes. Notice now the hypothesis lies very close to each measurement, whereas in the previous plot the hypothesis was often quite far from the measurement."
   ]
  },
  {
   "cell_type": "markdown",
   "metadata": {
    "id": "e8BWPKyVbkeo"
   },
   "source": [
    "It seems far more likely to be true that I gained weight than I didn't gain any weight."
   ]
  },
  {
   "cell_type": "markdown",
   "metadata": {
    "id": "CEv_yBtlbkeo"
   },
   "source": [
    "Did I actually gain 13 lbs? Who can say? That seems impossible to answer."
   ]
  },
  {
   "cell_type": "markdown",
   "metadata": {
    "id": "krOdBt98bkeo"
   },
   "source": [
    "\"But is it impossible?\" pipes up a co-worker."
   ]
  },
  {
   "cell_type": "markdown",
   "metadata": {
    "id": "_uOfoW6ebkeo"
   },
   "source": [
    "Let's try something crazy."
   ]
  },
  {
   "cell_type": "markdown",
   "metadata": {
    "id": "5gj-K856bkeo"
   },
   "source": [
    "Let's assume that I know I am gaining about one lb a day."
   ]
  },
  {
   "cell_type": "markdown",
   "metadata": {
    "id": "sIjeL57Dbkeo"
   },
   "source": [
    "It doesn't matter how I know that right now, assume I know it is approximately correct."
   ]
  },
  {
   "cell_type": "markdown",
   "metadata": {
    "id": "ic82rYvvbkeo"
   },
   "source": [
    "Maybe I am on a 6000 calorie a day diet, which would result in such a weight gain."
   ]
  },
  {
   "cell_type": "markdown",
   "metadata": {
    "id": "pdKRL58xbkeo"
   },
   "source": [
    "Or maybe there is another way to estimate the weight gain. This is a thought experiment, the details are not important. Let's see if we can make use of such information if it was available."
   ]
  },
  {
   "cell_type": "markdown",
   "metadata": {
    "id": "GHOf0m0gbkeo"
   },
   "source": [
    "The first measurement was 158. We have no way of knowing any different, so let's accept that as our estimate."
   ]
  },
  {
   "cell_type": "markdown",
   "metadata": {
    "id": "U6pmschCbkeo"
   },
   "source": [
    "If our weight today is 158, what will it be tomorrow?"
   ]
  },
  {
   "cell_type": "markdown",
   "metadata": {
    "id": "sb1Yg4JIbkeo"
   },
   "source": [
    "Well, we think we are gaining weight at 1 lb/day, so our prediction is 159, like so:"
   ]
  },
  {
   "cell_type": "code",
   "execution_count": 14,
   "metadata": {
    "id": "ZtDEpBszbkeo"
   },
   "outputs": [
    {
     "data": {
      "image/png": "[encoded data removed]",
      "text/plain": [
       "<Figure size 800x250 with 1 Axes>"
      ]
     },
     "metadata": {},
     "output_type": "display_data"
    }
   ],
   "source": [
    "gh.plot_estimate_chart_1()"
   ]
  },
  {
   "cell_type": "markdown",
   "metadata": {
    "id": "tjy3-678bkeo"
   },
   "source": [
    "Okay, but what good is this? Sure, we could assume the 1 lb/day is accurate, and predict our weight for the next 10 days, but then why use a scale at all if we don't incorporate its readings? So let's look at the next measurement. We step on the scale again and it displays 164.2 lbs."
   ]
  },
  {
   "cell_type": "code",
   "execution_count": 15,
   "metadata": {
    "id": "MJYuT_fNbkeo"
   },
   "outputs": [
    {
     "data": {
      "image/png": "[encoded data removed]",
      "text/plain": [
       "<Figure size 800x250 with 1 Axes>"
      ]
     },
     "metadata": {},
     "output_type": "display_data"
    }
   ],
   "source": [
    "gh.plot_estimate_chart_2()"
   ]
  },
  {
   "cell_type": "markdown",
   "metadata": {
    "id": "6fD8LDgcbkeo"
   },
   "source": [
    "We have a problem. Our prediction doesn't match our measurement."
   ]
  },
  {
   "cell_type": "markdown",
   "metadata": {
    "id": "ILboip9Ybkeo"
   },
   "source": [
    "But, that is what we expected, right?"
   ]
  },
  {
   "cell_type": "markdown",
   "metadata": {
    "id": "onNwMgpCbkeo"
   },
   "source": [
    "If the prediction was always exactly the same as the measurement, it would not be capable of adding any information to the filter."
   ]
  },
  {
   "cell_type": "markdown",
   "metadata": {
    "id": "4QUtV6b2bkep"
   },
   "source": [
    "And, of course, there would be no reason to ever measure since our predictions are perfect.\n",
    "\n",
    "> **The key insight to this entire book is in the next paragraph. Read it carefully!**"
   ]
  },
  {
   "cell_type": "markdown",
   "metadata": {
    "id": "HJeJUTVNbkep"
   },
   "source": [
    "So what do we do?"
   ]
  },
  {
   "cell_type": "markdown",
   "metadata": {
    "id": "GEpa9Xznbkep"
   },
   "source": [
    "If we only form estimates from the measurement then the prediction will not affect the result."
   ]
  },
  {
   "cell_type": "markdown",
   "metadata": {
    "id": "ZY340z97bkep"
   },
   "source": [
    "If we only form estimates from the prediction then the measurement will be ignored."
   ]
  },
  {
   "cell_type": "markdown",
   "metadata": {
    "id": "c1vuc2T5bkep"
   },
   "source": [
    "If this is to work we need to take some kind of **blend of the prediction and measurement** (I've bolded the key point)."
   ]
  },
  {
   "cell_type": "markdown",
   "metadata": {
    "id": "YW-QLpnQbkep"
   },
   "source": [
    "Blending two values - this sounds a lot like the two scale problem earlier."
   ]
  },
  {
   "cell_type": "markdown",
   "metadata": {
    "id": "WXQHHGSjbkep"
   },
   "source": [
    "Using the same reasoning as before we can see that the only thing that makes sense is to choose a number between the prediction and the measurement."
   ]
  },
  {
   "cell_type": "markdown",
   "metadata": {
    "id": "zNSEdG2mbkep"
   },
   "source": [
    "For example, an estimate of 165 makes no sense, nor does 157. Our estimates should lie between 159 (the prediction) and 164.2 (the measurement)."
   ]
  },
  {
   "cell_type": "markdown",
   "metadata": {
    "id": "LAm785AEbkep"
   },
   "source": [
    "One more time, this is so important."
   ]
  },
  {
   "cell_type": "markdown",
   "metadata": {
    "id": "ieBPD9UQbkep"
   },
   "source": [
    "We agreed that when presented two values with errors, we should form an estimate part way between the two values. It does not matter how those values were generated."
   ]
  },
  {
   "cell_type": "markdown",
   "metadata": {
    "id": "WMg3Wzt2bkep"
   },
   "source": [
    "In the start of the chapter we had two measurements, but now we have one measurement and one prediction."
   ]
  },
  {
   "cell_type": "markdown",
   "metadata": {
    "id": "KZ6vPbYsbkep"
   },
   "source": [
    "The reasoning, and hence the math is the same in both cases."
   ]
  },
  {
   "cell_type": "markdown",
   "metadata": {
    "id": "PdQRMZA3bkep"
   },
   "source": [
    "We *never* throw information away."
   ]
  },
  {
   "cell_type": "markdown",
   "metadata": {
    "id": "3JQwHYWlbkep"
   },
   "source": [
    "I mean it."
   ]
  },
  {
   "cell_type": "markdown",
   "metadata": {
    "id": "qcgbWvrebkep"
   },
   "source": [
    "I see so much commercial software that throws away noisy data."
   ]
  },
  {
   "cell_type": "markdown",
   "metadata": {
    "id": "5VtQ0wrRbkep"
   },
   "source": [
    "Don't do it!"
   ]
  },
  {
   "cell_type": "markdown",
   "metadata": {
    "id": "2SC-9zbvbkep"
   },
   "source": [
    "Our prediction of a weight gain might not be very accurate, but so long as there is some information we should use it."
   ]
  },
  {
   "cell_type": "markdown",
   "metadata": {
    "id": "FUEZsG5xbkep"
   },
   "source": [
    "I have to insist you stop and really think about this."
   ]
  },
  {
   "cell_type": "markdown",
   "metadata": {
    "id": "NLTs4ldMbkep"
   },
   "source": [
    "All I have done is replaced an inaccurate scale with an inaccurate weight prediction based on human physiology."
   ]
  },
  {
   "cell_type": "markdown",
   "metadata": {
    "id": "x0yeitgibkep"
   },
   "source": [
    "It is still data. Math doesn't know if the data came from a scale or a prediction."
   ]
  },
  {
   "cell_type": "markdown",
   "metadata": {
    "id": "21XNjhvDbkep"
   },
   "source": [
    "We have two pieces of data with a certain amount of noise, and we want to combine them."
   ]
  },
  {
   "cell_type": "markdown",
   "metadata": {
    "id": "WbC-6oNXbkep"
   },
   "source": [
    "In the remainder of this book we are going to develop some fairly complicated math to perform this computation, but the math never cares where the data come from, it only makes computations based on the value and accuracy of those values."
   ]
  },
  {
   "cell_type": "markdown",
   "metadata": {
    "id": "SqgsZV9Obkeq"
   },
   "source": [
    "Should the estimate be half way between the measurement and prediction?"
   ]
  },
  {
   "cell_type": "markdown",
   "metadata": {
    "id": "vjndCAuCbkeq"
   },
   "source": [
    "Maybe, but in general it seems like we might know that our prediction is more or less accurate compared to the measurements."
   ]
  },
  {
   "cell_type": "markdown",
   "metadata": {
    "id": "jnltFiQFbkeq"
   },
   "source": [
    "Probably the accuracy of our prediction differs from the accuracy of the scale."
   ]
  },
  {
   "cell_type": "markdown",
   "metadata": {
    "id": "WAjkRLANbkeq"
   },
   "source": [
    "Recall what we did when scale A was much more accurate than scale B - we scaled the answer to be closer to A than B. Let's look at that in a chart."
   ]
  },
  {
   "cell_type": "code",
   "execution_count": 16,
   "metadata": {
    "id": "AdkHUD01bkeq",
    "scrolled": true
   },
   "outputs": [
    {
     "data": {
      "image/png": "[encoded data removed]",
      "text/plain": [
       "<Figure size 800x250 with 1 Axes>"
      ]
     },
     "metadata": {},
     "output_type": "display_data"
    }
   ],
   "source": [
    "gh.plot_estimate_chart_3()"
   ]
  },
  {
   "cell_type": "markdown",
   "metadata": {
    "id": "T735AJQebkeq"
   },
   "source": [
    "\n",
    "Now let's try a randomly chosen number to scale our estimate: $\\frac{4}{10}$."
   ]
  },
  {
   "cell_type": "markdown",
   "metadata": {
    "id": "0GAEzt69bkeq"
   },
   "source": [
    "Our estimate will be four tenths the measurement and the rest will be from the prediction."
   ]
  },
  {
   "cell_type": "markdown",
   "metadata": {
    "id": "82sSPcQRbkeq"
   },
   "source": [
    "In other words, we are expressing a belief here, a belief that the prediction is somewhat more likely to be correct than the measurement. We compute that as\n",
    "\n",
    "$$\\mathtt{estimate} = \\mathtt{prediction} + \\frac{4}{10}(\\mathtt{measurement} - \\mathtt{prediction})$$"
   ]
  },
  {
   "cell_type": "markdown",
   "metadata": {
    "id": "A5R2cy3zbkeq"
   },
   "source": [
    "\n",
    "The difference between the measurement and prediction is called the *residual*, which is depicted by the black vertical line in the plot above."
   ]
  },
  {
   "cell_type": "markdown",
   "metadata": {
    "id": "uUxNsWHgbkeq"
   },
   "source": [
    "This will become an important value to use later on, as it is an exact computation of the difference between measurements and the filter's output."
   ]
  },
  {
   "cell_type": "markdown",
   "metadata": {
    "id": "UXb8J5Msbkeq"
   },
   "source": [
    "Smaller residuals imply better performance."
   ]
  },
  {
   "cell_type": "markdown",
   "metadata": {
    "id": "YOL7YYqebkeq"
   },
   "source": [
    "Let's code that and see the results when we test it against the series of weights from above."
   ]
  },
  {
   "cell_type": "markdown",
   "metadata": {
    "id": "QgTyzWc7bkeq"
   },
   "source": [
    "We have to take into account one other factor."
   ]
  },
  {
   "cell_type": "markdown",
   "metadata": {
    "id": "JGB3o50Jbkeq"
   },
   "source": [
    "Weight gain has units of lbs/time, so to be general we will need to add a time step $t$, which we will set to 1 (day)."
   ]
  },
  {
   "cell_type": "markdown",
   "metadata": {
    "id": "KM2UtKadbkeq"
   },
   "source": [
    "I hand generated the weight data to correspond to a true starting weight of 160 lbs, and a weight gain of 1 lb per day.\n",
    "\n",
    "In other words on the first day (day zero) the true weight is 160lbs, on the second day (day one, the first day of weighing) the true weight is 161 lbs, and so on.\n",
    "\n",
    "We need to make a guess for the initial weight. It is too early to talk about initialization strategies, so for now I will assume 160 lbs."
   ]
  },
  {
   "cell_type": "code",
   "execution_count": 17,
   "metadata": {
    "colab": {
     "base_uri": "https://localhost:8080/"
    },
    "executionInfo": {
     "elapsed": 10,
     "status": "ok",
     "timestamp": 1757522016487,
     "user": {
      "displayName": "Mehmet Ergezer",
      "userId": "09071058300265774123"
     },
     "user_tz": 240
    },
    "id": "cXV2CWptbkeq",
    "outputId": "cfe1e899-0663-4bc4-cdc5-61ede2216a25"
   },
   "outputs": [
    {
     "name": "stdout",
     "output_type": "stream",
     "text": [
      "previous estimate: 160.00, prediction: 161.00, estimate 159.80\n",
      "previous estimate: 159.80, prediction: 160.80, estimate 162.16\n",
      "previous estimate: 162.16, prediction: 163.16, estimate 162.02\n",
      "previous estimate: 162.02, prediction: 163.02, estimate 161.77\n",
      "previous estimate: 161.77, prediction: 162.77, estimate 162.50\n",
      "previous estimate: 162.50, prediction: 163.50, estimate 163.94\n",
      "previous estimate: 163.94, prediction: 164.94, estimate 166.80\n",
      "previous estimate: 166.80, prediction: 167.80, estimate 167.64\n",
      "previous estimate: 167.64, prediction: 168.64, estimate 167.75\n",
      "previous estimate: 167.75, prediction: 168.75, estimate 169.65\n",
      "previous estimate: 169.65, prediction: 170.65, estimate 170.87\n",
      "previous estimate: 170.87, prediction: 171.87, estimate 172.16\n"
     ]
    }
   ],
   "source": [
    "from kf_book.book_plots import figsize\n",
    "import matplotlib.pyplot as plt\n",
    "\n",
    "weights = [158.0, 164.2, 160.3, 159.9, 162.1, 164.6,\n",
    "           169.6, 167.4, 166.4, 171.0, 171.2, 172.6]\n",
    "\n",
    "time_step = 1.0  # day\n",
    "scale_factor = 4.0/10\n",
    "\n",
    "def predict_using_gain_guess(weight, gain_rate, do_print=False):\n",
    "    # store the filtered results\n",
    "    estimates, predictions = [weight], []\n",
    "\n",
    "    # most filter literature uses 'z' for measurements\n",
    "    for z in weights:\n",
    "        # predict new position\n",
    "        prediction = weight + (gain_rate * time_step)\n",
    "\n",
    "        # update filter\n",
    "        weight = prediction + (scale_factor * (z - prediction))\n",
    "\n",
    "        # save\n",
    "        estimates.append(weight)\n",
    "        predictions.append(prediction)\n",
    "        if do_print:\n",
    "            gh.print_results(estimates, prediction, weight)\n",
    "\n",
    "    return estimates, predictions\n",
    "\n",
    "initial_guess = 160.\n",
    "\n",
    "estimates, predictions = predict_using_gain_guess(\n",
    "    weight=initial_guess, gain_rate=1, do_print=True)"
   ]
  },
  {
   "cell_type": "code",
   "execution_count": 18,
   "metadata": {
    "id": "QQqBTdkAbkeq"
   },
   "outputs": [
    {
     "ename": "TypeError",
     "evalue": "plot_gh_results() missing 1 required positional argument: 'actual'",
     "output_type": "error",
     "traceback": [
      "\u001b[31m---------------------------------------------------------------------------\u001b[39m",
      "\u001b[31mTypeError\u001b[39m                                 Traceback (most recent call last)",
      "\u001b[36mCell\u001b[39m\u001b[36m \u001b[39m\u001b[32mIn[18]\u001b[39m\u001b[32m, line 2\u001b[39m\n\u001b[32m      1\u001b[39m \u001b[38;5;66;03m# plot results\u001b[39;00m\n\u001b[32m----> \u001b[39m\u001b[32m2\u001b[39m \u001b[43mgh\u001b[49m\u001b[43m.\u001b[49m\u001b[43mplot_gh_results\u001b[49m\u001b[43m(\u001b[49m\u001b[43mweights\u001b[49m\u001b[43m,\u001b[49m\u001b[43m \u001b[49m\u001b[43mestimates\u001b[49m\u001b[43m,\u001b[49m\u001b[43m \u001b[49m\u001b[43mpredictions\u001b[49m\u001b[43m)\u001b[49m\n",
      "\u001b[31mTypeError\u001b[39m: plot_gh_results() missing 1 required positional argument: 'actual'"
     ]
    }
   ],
   "source": [
    "# plot results\n",
    "gh.plot_gh_results(weights, estimates, predictions)"
   ]
  },
  {
   "cell_type": "markdown",
   "metadata": {
    "id": "GSFvIWGrbkeq"
   },
   "source": [
    "That is pretty good! There is a lot of data here, so let's talk about how to interpret it.  The thick blue line shows the estimate from the filter. It starts at day 0 with the initial guess of 160 lbs. The red line shows the prediction that is made from the previous day's weight. So, on day one the previous weight was 160 lbs, the weight gain is 1 lb, and so the first prediction is 161 lbs.\n",
    "\n",
    "The estimate on day one is then part way between the prediction and measurement at 159.8 lbs. Below the chart is a print out of the previous weight, predicted weight, and new estimate for each day. Finally, the thin black line shows the actual weight gain of the person being weighed.\n",
    "\n",
    "Walk through this for each day, ensuring you understand how the prediction and estimates were formed at each step. Note how the estimate always falls between the measurement and prediction.\n",
    "\n",
    "The estimates are not a straight line, but they are straighter than the measurements and somewhat close to the trend line we created. Also, it seems to get better over time."
   ]
  },
  {
   "cell_type": "markdown",
   "metadata": {
    "id": "7N77r-MYbkeq"
   },
   "source": [
    "The results of the filter may strike you as quite silly;\n",
    "\n",
    "of course the data will look good if we assume the conclusion, that our weight gain is around 1 lb/day!"
   ]
  },
  {
   "cell_type": "markdown",
   "metadata": {
    "id": "geV60csQbker"
   },
   "source": [
    "Let's see what the filter does if our initial guess is bad."
   ]
  },
  {
   "cell_type": "markdown",
   "metadata": {
    "id": "aEKLrtCRbker"
   },
   "source": [
    "Let's predict that there is a weight loss of 1 lb a day:"
   ]
  },
  {
   "cell_type": "code",
   "execution_count": null,
   "metadata": {
    "id": "aiH8eNrubker"
   },
   "outputs": [],
   "source": [
    "e, p = predict_using_gain_guess(initial_guess, -1.)\n",
    "gh.plot_gh_results(weights, e, p)"
   ]
  },
  {
   "cell_type": "markdown",
   "metadata": {
    "id": "yLtv0CZVbker"
   },
   "source": [
    "That is not so impressive. The estimates quickly divert from the measurements."
   ]
  },
  {
   "cell_type": "markdown",
   "metadata": {
    "id": "QYx7-DIibker"
   },
   "source": [
    "Clearly a filter that requires us to correctly guess a rate of change is not very useful."
   ]
  },
  {
   "cell_type": "markdown",
   "metadata": {
    "id": "OZ2qKa9Wbker"
   },
   "source": [
    "Even if our initial guess was correct, the filter will fail as soon as that rate of change changes."
   ]
  },
  {
   "cell_type": "markdown",
   "metadata": {
    "id": "dRMSCV0Ebker"
   },
   "source": [
    "If I stop overeating the filter will have extreme difficulty in adjusting to that change. Note that it is adjusting! The estimates are climbing even though we tell it we are losing 1 lb a day. It just can't adjust fast enough."
   ]
  },
  {
   "cell_type": "markdown",
   "metadata": {
    "id": "KVDof5ltbker"
   },
   "source": [
    "But, 'what if'? What if instead of leaving the weight gain at the initial guess of 1 lb (or whatever), we compute it from the existing measurements and estimates."
   ]
  },
  {
   "cell_type": "markdown",
   "metadata": {
    "id": "Z59LSYvUbker"
   },
   "source": [
    "On day one our estimate for the weight is:\n",
    "\n",
    "$$\n",
    "(160 + 1) + \\frac{4}{10}(158-161) = 159.8\n",
    "$$"
   ]
  },
  {
   "cell_type": "markdown",
   "metadata": {
    "id": "qTB6hYxTbker"
   },
   "source": [
    "On the next day we measure 164.2, which implies a weight gain of 4.4 lbs (since 164.2 - 159.8 = 4.4), not 1."
   ]
  },
  {
   "cell_type": "markdown",
   "metadata": {
    "id": "pNu9H3uTbker"
   },
   "source": [
    "Can we use this information somehow?"
   ]
  },
  {
   "cell_type": "markdown",
   "metadata": {
    "id": "b9JnDC2tbker"
   },
   "source": [
    "It seems plausible. After all, the weight measurement itself is based on a real world measurement of our weight, so there is useful information."
   ]
  },
  {
   "cell_type": "markdown",
   "metadata": {
    "id": "5t8PTcQUbker"
   },
   "source": [
    "Our estimate of our weight gain may not be perfect, but it is surely better than just guessing our gain is 1 lb."
   ]
  },
  {
   "cell_type": "markdown",
   "metadata": {
    "id": "x2N_p6Z2bker"
   },
   "source": [
    "Data is better than a guess, even if it is noisy."
   ]
  },
  {
   "cell_type": "markdown",
   "metadata": {
    "id": "Ou7ybnRwbker"
   },
   "source": [
    "People really balk at this point, so make sure you are in agreement."
   ]
  },
  {
   "cell_type": "markdown",
   "metadata": {
    "id": "lobrwOj8bker"
   },
   "source": [
    "Two noisy measurements of weight give us an implied weight gain/loss."
   ]
  },
  {
   "cell_type": "markdown",
   "metadata": {
    "id": "W0nWpaXwbker"
   },
   "source": [
    "That estimate is going to be very inaccurate if the measurements are inaccurate, but there is still information in this computation."
   ]
  },
  {
   "cell_type": "markdown",
   "metadata": {
    "id": "ojAOTZTjbker"
   },
   "source": [
    "<img src=\"cow_scale.jpeg\">"
   ]
  },
  {
   "cell_type": "markdown",
   "metadata": {
    "id": "xKOm0kKzbker"
   },
   "source": [
    "Imagine weighing a cow with a scale accurate to 1 lb, and it shows that the cow gained 10 lbs."
   ]
  },
  {
   "cell_type": "markdown",
   "metadata": {
    "id": "BEqBNA8hbker"
   },
   "source": [
    "The cow might have gained 8 lbs up to 12 lbs, depending on the errors, but we know it gained weight, and roughly how much."
   ]
  },
  {
   "cell_type": "markdown",
   "metadata": {
    "id": "-nNYGcqybker"
   },
   "source": [
    "This is information. What do we do with information? Never throw it away!"
   ]
  },
  {
   "cell_type": "markdown",
   "metadata": {
    "id": "V-0b9Xr8bker"
   },
   "source": [
    "Back to my diet. Should we set the new gain/day to 4.4 lbs?"
   ]
  },
  {
   "cell_type": "markdown",
   "metadata": {
    "id": "LgJ3lIgubker"
   },
   "source": [
    "Yesterday we thought the weight gain was 1 lb, today we think it is 4.4 lbs."
   ]
  },
  {
   "cell_type": "markdown",
   "metadata": {
    "id": "yIavSeG6bker"
   },
   "source": [
    "We have two numbers, and want to combine them somehow."
   ]
  },
  {
   "cell_type": "markdown",
   "metadata": {
    "id": "RGPptB1Obker"
   },
   "source": [
    "Hmm, sounds like our same problem again."
   ]
  },
  {
   "cell_type": "markdown",
   "metadata": {
    "id": "OwaR84Kebker"
   },
   "source": [
    "Let's use our same tool, and the only tool we have so far - pick a value part way between the two."
   ]
  },
  {
   "cell_type": "markdown",
   "metadata": {
    "id": "1yo7ozg1bker"
   },
   "source": [
    "This time I will use another arbitrarily chosen number, $\\frac{1}{3}$."
   ]
  },
  {
   "cell_type": "markdown",
   "metadata": {
    "id": "w3xomMRybker"
   },
   "source": [
    "The equation is identical as for the weight estimate except we have to incorporate time because this is a rate (gain/day):\n",
    "\n",
    "$$\\text{new gain} = \\text{old gain} + \\frac{1}{3}\\frac{\\text{measurement - predicted weight}}{1 \\text{ day}}\n",
    "$$"
   ]
  },
  {
   "cell_type": "code",
   "execution_count": null,
   "metadata": {
    "id": "-yen20Uxbker"
   },
   "outputs": [],
   "source": [
    "weight = 160.  # initial guess\n",
    "gain_rate = -1.0  # initial BAD guess\n",
    "\n",
    "time_step = 1.\n",
    "weight_scale = 4./10\n",
    "gain_scale = 1./3\n",
    "estimates = [weight]\n",
    "predictions = []\n",
    "\n",
    "for z in weights:\n",
    "#     print(gain_rate)\n",
    "    # prediction step\n",
    "    weight = weight + (gain_rate*time_step)\n",
    "    gain_rate = gain_rate\n",
    "    predictions.append(weight)\n",
    "\n",
    "    # update step\n",
    "    residual = z - weight\n",
    "\n",
    "    gain_rate = gain_rate + (gain_scale   * (residual/time_step))\n",
    "    weight    = weight    + (weight_scale * residual)\n",
    "\n",
    "    estimates.append(weight)\n",
    "\n",
    "gh.plot_gh_results(weights, estimates, predictions)"
   ]
  },
  {
   "cell_type": "markdown",
   "metadata": {
    "id": "IE2sGIjkbker"
   },
   "source": [
    "I think this is starting to look really good."
   ]
  },
  {
   "cell_type": "markdown",
   "metadata": {
    "id": "t9sE0-vtbkes"
   },
   "source": [
    "Because of the poor initial guess of the weight gain being -1 it takes the filter several days to accurately predict the weight, but once it does that it starts to accurately track the weight."
   ]
  },
  {
   "cell_type": "markdown",
   "metadata": {
    "id": "LzONTLY8bkes"
   },
   "source": [
    "We used no methodology for choosing our scaling factors of $\\frac{4}{10}$ and $\\frac{1}{3}$ (actually, they are poor choices for this problem), but otherwise all of the math followed from very reasonable assumptions."
   ]
  },
  {
   "cell_type": "markdown",
   "metadata": {
    "id": "5DrwhJ0Pbkes"
   },
   "source": [
    "Recall that you can change the value of the parameter `time_step` to a larger value and re-run the cell if you want to see the plot drawn step-by-step."
   ]
  },
  {
   "cell_type": "markdown",
   "metadata": {
    "id": "ZDriTdjfbkes"
   },
   "source": [
    "One final point before we go on. In the prediction step I wrote the line\n",
    "```python\n",
    "gain_rate = gain_rate\n",
    "```"
   ]
  },
  {
   "cell_type": "markdown",
   "metadata": {
    "id": "O_jSPy-bbkes"
   },
   "source": [
    "This obviously has no effect, and can be removed."
   ]
  },
  {
   "cell_type": "markdown",
   "metadata": {
    "id": "3SmPfrLGbkes"
   },
   "source": [
    "I wrote this to emphasize that in the prediction step you need to predict the next value for all variables, both `weight` and `gain_rate`. This will become relevant shortly."
   ]
  },
  {
   "cell_type": "markdown",
   "metadata": {
    "id": "R5iK4KwPbkes"
   },
   "source": [
    "In this case we are assuming that the gain does not vary, but when we generalize this algorithm we will remove that assumption."
   ]
  },
  {
   "cell_type": "markdown",
   "metadata": {
    "id": "YQR9tKUCbkes"
   },
   "source": [
    "## Summary\n",
    "\n",
    "We used noisy measurements collected by a scale to develop intuition on\n",
    "- why the filtering is needed and\n",
    "- how we can track the dynamic track changes in noisy data\n",
    "\n",
    "We are now ready to implement the generic g-h filter."
   ]
  },
  {
   "cell_type": "markdown",
   "metadata": {
    "id": "1-zBgl5tlU6M"
   },
   "source": [
    "⚖️ Example 1: Car fuel gauge\n",
    "- Model (prediction): You know your car burns about 0.05 gallons per mile. After 100 miles, you predict ~5 gallons used.\n",
    "- Measurement: The fuel gauge says you’ve only used 4 gallons (but you know it’s noisy).\n",
    "- Insight: Instead of trusting only the model (which ignores hills, traffic, etc.) or only the gauge (which is jittery), the filter blends both.\n",
    "\n",
    "⸻\n",
    "\n",
    "🌦 Example 2: Weather forecast vs thermometer\n",
    "- Model (prediction): The weather app says it should be ~72°F this afternoon.\n",
    "- Measurement: Your cheap outdoor thermometer reads 70°F, but it’s often off by a few degrees.\n",
    "- Insight: The “truth” is likely between the two, weighted by how much you trust each source.\n",
    "\n",
    "⸻\n",
    "\n",
    "🚌 Example 3: Tracking a bus arrival\n",
    "- Model (prediction): The bus schedule says it arrives at 8:10am.\n",
    "- Measurement: The GPS app says it’s 5 minutes away — but GPS sometimes lags.\n",
    "- Insight: A good estimate blends both: if traffic is light (model reliable), lean toward schedule; if GPS is consistent (measurement reliable), lean toward that.\n",
    "\n",
    "⸻\n",
    "\n",
    "🏃 Example 4: Step counter + GPS\n",
    "- Model (prediction): Your fitness tracker counts steps to estimate distance (say ~0.8m per step).\n",
    "- Measurement: GPS gives you a noisy location every few seconds.\n",
    "- Insight: Combine step model + GPS readings → smooth, accurate tracking.\n"
   ]
  },
  {
   "cell_type": "code",
   "execution_count": null,
   "metadata": {
    "id": "EPSa-Ed-bkes"
   },
   "outputs": [],
   "source": []
  }
 ],
 "metadata": {
  "anaconda-cloud": {},
  "celltoolbar": "Slideshow",
  "colab": {
   "provenance": []
  },
  "kernelspec": {
   "display_name": "env",
   "language": "python",
   "name": "python3"
  },
  "language_info": {
   "codemirror_mode": {
    "name": "ipython",
    "version": 3
   },
   "file_extension": ".py",
   "mimetype": "text/x-python",
   "name": "python",
   "nbconvert_exporter": "python",
   "pygments_lexer": "ipython3",
   "version": "3.13.7"
  }
 },
 "nbformat": 4,
 "nbformat_minor": 0
}
